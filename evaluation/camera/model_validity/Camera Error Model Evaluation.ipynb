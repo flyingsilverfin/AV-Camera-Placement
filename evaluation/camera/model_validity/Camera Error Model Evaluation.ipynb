{
 "cells": [
  {
   "cell_type": "code",
   "execution_count": 37,
   "metadata": {},
   "outputs": [
    {
     "data": {
      "text/plain": [
       "<Figure size 432x288 with 0 Axes>"
      ]
     },
     "metadata": {},
     "output_type": "display_data"
    }
   ],
   "source": [
    "%matplotlib inline\n",
    "\n",
    "import matplotlib\n",
    "# matplotlib.use('pgf')\n",
    "# pgf_with_rc_fonts = {\n",
    "#     \"font.family\": \"serif\",\n",
    "#     \"font.serif\": [],                   # use latex default serif font\n",
    "#     \"font.sans-serif\": [\"DejaVu Sans\"], # use a specific sans-serif font\n",
    "#     \"pgf.rcfonts\" : False\n",
    "# }\n",
    "# matplotlib.rcParams.update(pgf_with_rc_fonts)\n",
    "\n",
    "from matplotlib import rc\n",
    "import matplotlib.pyplot as plt\n",
    "from matplotlib.patches import Ellipse\n",
    "\n",
    "import glob\n",
    "import os\n",
    "import scipy.misc\n",
    "import scipy.stats as st\n",
    "import numpy as np\n",
    "import json\n",
    "\n",
    "from skimage.draw import line_aa\n",
    "\n",
    "import sys\n",
    "# sys.path.append(\"/home/joshua/Documents/Uni/Year4/dissertation/catkin_ws/src/linefollow_gazebo/scripts\")\n",
    "sys.path.append(\"/local/scratch/js2173/diss/AV-Camera-Placement/src/linefollow_gazebo/scripts/\")\n",
    "\n",
    "# import helper as helper\n",
    "import CameraModel as CameraModel\n",
    "\n",
    "plt.style.use('ggplot')\n",
    "from matplotlib import rc\n",
    "\n",
    "# rc('text', usetex=True)\n",
    "matplotlib.rcParams['axes.facecolor'] = 'white'\n",
    "matplotlib.rcParams['axes.edgecolor'] = '0.4'\n",
    "matplotlib.rcParams['axes.spines.right'] = False\n",
    "matplotlib.rcParams['axes.spines.top'] = False\n",
    "matplotlib.rcParams['grid.color'] = \"0.9\"\n",
    "\n",
    "plt.tight_layout(.5)\n",
    "\n"
   ]
  },
  {
   "cell_type": "code",
   "execution_count": 2,
   "metadata": {},
   "outputs": [],
   "source": [
    "def get_predicted_error_radius(camera_height,\n",
    "                               ground_distance, \n",
    "                               pixel_area,\n",
    "                               sigma_pos=0.03/2.0,\n",
    "                               sigma_orient_deg=0.5/2,\n",
    "                               alg_error=4.0, # note: changed\n",
    "                               verbose=False,\n",
    "                               orientation_percent=0.9,\n",
    "                               pos_percent=0.9,\n",
    "                               alg_percent=0.9,\n",
    "                               use_err_xy=True,\n",
    "                               use_err_z=True,\n",
    "                               use_err_orient=True,\n",
    "                               use_err_pixel=True\n",
    "                              ):\n",
    "    # TODO this is wrong implementation! Doesn't matter though really as long as use is consistent\n",
    "    # but really it should be -1*norm.ppf((1-percent)/2.0)\n",
    "    # as it is is an underestimate\n",
    "\n",
    "    stddevs_orientation = st.norm.ppf(orientation_percent)\n",
    "    stddevs_position = st.norm.ppf(pos_percent)\n",
    "    stddevs_alg = st.norm.ppf(alg_percent)\n",
    "    \n",
    "    \n",
    "    xy_error = 2 * stddevs_position * sigma_pos if use_err_xy else 0\n",
    "    z_error = (ground_distance/camera_height)*stddevs_position*sigma_pos if use_err_z else 0\n",
    "    \n",
    "    if use_err_orient:\n",
    "        t = stddevs_orientation*np.deg2rad(sigma_orient_deg)\n",
    "        alpha = np.arctan2(ground_distance, camera_height)\n",
    "        beta = alpha + t\n",
    "        if beta > np.pi/2: # causes tan to roll over into negatives...\n",
    "            orientation_error = 9999999999\n",
    "        else:\n",
    "            orientation_error = np.tan(beta)*camera_height - ground_distance\n",
    "    else:\n",
    "        orientation_error = 0\n",
    "    \n",
    "    pixel_error = np.sqrt(2*pixel_area) if use_err_pixel else 0\n",
    "    \n",
    "#     print(\"Z error: {0}\".format(z_error))\n",
    "#     print(\"orien error: {0}\".format(orientation_error))\n",
    "#     print(\"pixel_error: {0}\".format(pixel_error))\n",
    "    total = xy_error + z_error + orientation_error + (alg_error+1)/2.0 * stddevs_alg * pixel_error\n",
    "    return total, xy_error, z_error, orientation_error, alg_error*pixel_error\n",
    "    "
   ]
  },
  {
   "cell_type": "code",
   "execution_count": 3,
   "metadata": {},
   "outputs": [],
   "source": [
    "\n",
    "    \n",
    "   \n",
    "\n",
    "def do_eval(real_position, \n",
    "            real_pitch_deg,\n",
    "            real_yaw_deg,\n",
    "            sigma_pos=0.03/2.0,\n",
    "            sigma_orient_deg=0.5/2,\n",
    "            alg_error=0.0,\n",
    "            camera_res=(500,500),\n",
    "            camera_fov=(60.0, 60.0),\n",
    "            n_samples_per_camera=10,\n",
    "            n_camera_instances=1,\n",
    "            orientation_percent=0.90,\n",
    "            pos_percent=0.9,\n",
    "            alg_percent=0.9,\n",
    "            use_err_xy=True,\n",
    "            use_err_z=True,\n",
    "            use_err_orient=True,\n",
    "            use_err_pixel=True,\n",
    "            verbose=False):\n",
    "    \n",
    "    real_camera = CameraModel.Camera(position=real_position, orientation_pitch_deg=real_pitch_deg, \n",
    "                                     orientation_yaw_deg=real_yaw_deg, verbose=False)\n",
    "    real_camera.set_resolution(*camera_res)\n",
    "    real_camera.set_fov(*camera_fov)\n",
    "\n",
    "    results = {\n",
    "        'true_vehicle_center':[], # placed using real_camera\n",
    "        'calculated_vehicle_center':[], # project world -> biased camera -> round to pixel -> world\n",
    "        'vehicle_center_prediction_error':[], # difference between above two\n",
    "        'predicted_error_radius':[],\n",
    "        'camera_biases':[], # enter tuples of (xyz, rp) bias\n",
    "        'xy_errors': [],\n",
    "        'z_errors': [],\n",
    "        'orientation_errors': [],\n",
    "        'pixel_alg_errors': []\n",
    "    }\n",
    "    for _ in range(n_camera_instances):\n",
    "        offset_xyz = np.random.normal(loc=0.0, scale=sigma_pos, size=3)\n",
    "        offset_rp = np.random.normal(loc=0.0, scale=sigma_orient_deg, size=2)\n",
    "        biased_camera = CameraModel.Camera(position=real_position+offset_xyz, \n",
    "                                           orientation_pitch_deg=real_pitch_deg+offset_rp[0], \n",
    "                                           orientation_yaw_deg=real_yaw_deg+offset_rp[1],\n",
    "                                           verbose=False\n",
    "                                          )\n",
    "        biased_camera.set_resolution(*camera_res)\n",
    "        biased_camera.set_fov(*camera_fov)\n",
    "        \n",
    "\n",
    "        \n",
    "        true_centers, calculated_centers, prediction_error, predicted_radius = [],[],[],[]\n",
    "        xy_errors, z_errors, orientation_errors, pixel_alg_errors = [], [], [], []\n",
    "        for i in range(n_samples_per_camera):\n",
    "            \n",
    "            # pick a uniformly distributed pixel to project through\n",
    "            x,y = np.random.uniform(0, camera_res)\n",
    "            # project through real camera to world coordinate to get something likely to be in FoV\n",
    "            pt = real_camera.pixel_to_plane(x, y)\n",
    "            true_centers.append(pt)\n",
    "            \n",
    "            # project world coordinate through biased camera\n",
    "            pixel = biased_camera.world_to_pixel(*pt)\n",
    "            # round to nearest pixel\n",
    "            pixel = np.round(pixel)\n",
    "            \n",
    "            \n",
    "            pixel_translation_distance = np.random.normal(loc=0.0, scale=alg_error/2.0)\n",
    "            pixel_translation_direction = np.random.uniform(0.0, 2*np.pi)\n",
    "            dx = pixel_translation_distance * np.cos(pixel_translation_direction)\n",
    "            dy = pixel_translation_distance * np.sin(pixel_translation_direction)\n",
    "            \n",
    "            pixel += np.array([dx, dy])\n",
    "            \n",
    "            \n",
    "#             print(\"True Pixel: ({0}, {1}), using pixel: {2}\".format(x, y, pixel))\n",
    "            pixel_area = real_camera.plane_area_of_pixel(*pixel) # get area in true camera (will be wrong pixel)\n",
    "            # project back onto ground to get estimate as if it were the true camera\n",
    "            world_estimate = real_camera.pixel_to_plane(*pixel)\n",
    "            calculated_centers.append(world_estimate)\n",
    "            \n",
    "            if pt is None or world_estimate is None:\n",
    "                continue\n",
    "            # error\n",
    "            error = np.linalg.norm(world_estimate - pt)\n",
    "#             print(\"=> World plane error: \\t\\t{0}\".format(error))\n",
    "            prediction_error.append(error)\n",
    "            \n",
    "            # predicted error radius\n",
    "            radius, xy_err, z_err, orientation_err, pixel_err  = get_predicted_error_radius(real_position[2],\n",
    "                               ground_distance=np.linalg.norm(world_estimate[:2]), \n",
    "                               pixel_area=pixel_area,\n",
    "                               sigma_pos=sigma_pos,\n",
    "                               sigma_orient_deg=sigma_orient_deg,\n",
    "                               alg_error=alg_error,\n",
    "                               verbose=verbose,             \n",
    "                               orientation_percent=orientation_percent,\n",
    "                               pos_percent=pos_percent, \n",
    "                               use_err_xy=use_err_xy,\n",
    "                               use_err_z=use_err_z,\n",
    "                               use_err_orient=use_err_orient,\n",
    "                               use_err_pixel=use_err_pixel\n",
    "                              )\n",
    "            \n",
    "            predicted_radius.append(radius)\n",
    "            xy_errors.append(xy_err)\n",
    "            z_errors.append(z_err)\n",
    "            orientation_errors.append(orientation_err)\n",
    "            pixel_alg_errors.append(pixel_err)\n",
    "            \n",
    "#             print(\"=> Predicted error radius:  \\t\\t{0}\".format(radius))\n",
    "            \n",
    "            \n",
    "            \n",
    "            if verbose and radius < error:\n",
    "                print(\"Offset XYZ: {0}, RP: {1}\".format(offset_xyz, offset_rp))\n",
    "                print(\"True pixel & ground area: {0}, {1}\".format((x,y), real_camera.plane_area_of_pixel(*np.round([x,y]))))\n",
    "                print(\"True world pos: {0}\".format(pt))\n",
    "                print(\"Biased pixel: {0}\".format(pixel))\n",
    "                print(\"Pixel Ground area in true camera: {0}\".format(pixel_area))\n",
    "                print(\"World pos estimate: {0}\".format(world_estimate))\n",
    "                print(\"Error: {0}\".format(error))\n",
    "                print(\"Predicted Error Radius: {0}\".format(radius))\n",
    "                print(\"-----------------\")\n",
    "        results['true_vehicle_center'].append(np.array(true_centers))\n",
    "        results['calculated_vehicle_center'].append(np.array(calculated_centers))\n",
    "        results['vehicle_center_prediction_error'].append(np.array(prediction_error))\n",
    "        results['predicted_error_radius'].append(np.array(predicted_radius))\n",
    "        results['camera_biases'].append(np.array([offset_xyz, offset_rp]))\n",
    "        results['xy_errors'].append(xy_errors)\n",
    "        results['z_errors'].append(z_errors)\n",
    "        results['orientation_errors'].append(orientation_errors)\n",
    "        results['pixel_alg_errors'].append(pixel_alg_errors)\n",
    "\n",
    "    results['true_vehicle_center'] = np.array(results['true_vehicle_center'])\n",
    "    results['calculated_vehicle_center'] = np.array(results['calculated_vehicle_center'])\n",
    "    results['vehicle_center_prediction_error'] = np.array(results['vehicle_center_prediction_error'])\n",
    "    results['predicted_error_radius'] = np.array(results['predicted_error_radius'])\n",
    "    results['xy_errors'] = np.array(results['xy_errors'])\n",
    "    results['z_errors'] = np.array(results['z_errors']) \n",
    "    results['orientation_errors'] = np.array(results['orientation_errors'])\n",
    "    results['pixel_alg_errors'] = np.array(results['pixel_alg_errors'])\n",
    "    results['camera_biases'] = np.array(results['camera_biases'])\n",
    "\n",
    "    return results\n",
    "\n",
    "\n"
   ]
  },
  {
   "cell_type": "code",
   "execution_count": 4,
   "metadata": {},
   "outputs": [],
   "source": [
    "def evaluate_error_model(camera_height_range=(4.0, 10.0), \n",
    "                         camera_pitch_range=(32.0, 90.0), \n",
    "                         camera_pos_samples=100, \n",
    "                         camera_instances_per=50, \n",
    "                         samples_per_camera=50, \n",
    "                         sigma_pos=0.03/2, \n",
    "                         sigma_orient_deg=0.5/2, \n",
    "                         alg_error=1.0, \n",
    "                         use_err_xy=True,\n",
    "                         use_err_z=True,\n",
    "                         use_err_orient=True,\n",
    "                         use_err_pixel=True,      \n",
    "                         orientation_percent=0.9,\n",
    "                         pos_percent=0.9, \n",
    "                         alg_percent=0.9,\n",
    "                         camera_resolution=(500,500)\n",
    "                        ):\n",
    "    all_results = []\n",
    "    \n",
    "    for _ in range(camera_pos_samples):\n",
    "        height, pitch = np.random.uniform(*np.array([camera_height_range, camera_pitch_range]).T)\n",
    "        all_results.append(\n",
    "            do_eval(np.array([0.0, 0.0, height]), \n",
    "                pitch,\n",
    "                0.0,\n",
    "                sigma_pos=sigma_pos,\n",
    "                sigma_orient_deg=sigma_orient_deg,\n",
    "                alg_error=alg_error,\n",
    "                camera_res=camera_resolution,\n",
    "                camera_fov=(60.0, 60.0),\n",
    "                n_samples_per_camera=samples_per_camera,\n",
    "                n_camera_instances=camera_instances_per,\n",
    "                orientation_percent=orientation_percent,\n",
    "                pos_percent=pos_percent, \n",
    "                alg_percent=alg_percent,\n",
    "                use_err_xy=use_err_xy,\n",
    "                use_err_z=use_err_z,\n",
    "                use_err_orient=use_err_orient,\n",
    "                use_err_pixel=use_err_pixel\n",
    "            )\n",
    "        )\n",
    "    return all_results\n",
    "    \n",
    "    "
   ]
  },
  {
   "cell_type": "code",
   "execution_count": 5,
   "metadata": {},
   "outputs": [],
   "source": [
    "outlier_cutoff = 3.0\n",
    "save = False"
   ]
  },
  {
   "cell_type": "markdown",
   "metadata": {},
   "source": [
    "### 1 show without pixel error, radii are gaussian...ish"
   ]
  },
  {
   "cell_type": "code",
   "execution_count": 6,
   "metadata": {},
   "outputs": [],
   "source": [
    "no_pixel = evaluate_error_model(camera_pos_samples=100, camera_instances_per=50, samples_per_camera=25,\n",
    "                                use_err_pixel=False)"
   ]
  },
  {
   "cell_type": "code",
   "execution_count": 7,
   "metadata": {},
   "outputs": [
    {
     "name": "stdout",
     "output_type": "stream",
     "text": [
      "Number of outliers (>3.0) discarded: 786/125000 ... 0.006288\n",
      "Mean: 0.179164080878, stddev: 0.243318046597\n"
     ]
    },
    {
     "data": {
      "text/plain": [
       "<Figure size 432x288 with 0 Axes>"
      ]
     },
     "metadata": {},
     "output_type": "display_data"
    },
    {
     "data": {
      "image/png": "[encoded data removed]",
      "text/plain": [
       "<Figure size 432x216 with 1 Axes>"
      ]
     },
     "metadata": {},
     "output_type": "display_data"
    },
    {
     "data": {
      "text/plain": [
       "<Figure size 432x288 with 0 Axes>"
      ]
     },
     "metadata": {},
     "output_type": "display_data"
    }
   ],
   "source": [
    "plt.clf()\n",
    "plt.figure(figsize=(6,3))\n",
    "all_radii_no_pixel = np.array([res['predicted_error_radius'] for res in no_pixel]).ravel()\n",
    "outliers = all_radii_no_pixel > outlier_cutoff\n",
    "num_outliers, total = np.count_nonzero(outliers), all_radii_no_pixel.shape[0]\n",
    "non_outliers = all_radii_no_pixel[~outliers]\n",
    "plt.hist(non_outliers, bins=200)\n",
    "print(\"Number of outliers (>{3}) discarded: {0}/{1} ... {2}\".format(num_outliers, total, num_outliers/float(total), outlier_cutoff))\n",
    "print(\"Mean: {0}, stddev: {1}\".format(np.mean(non_outliers), np.var(non_outliers)**0.5 ))\n",
    "# plt.tight_layout()\n",
    "if save:\n",
    "    plt.savefig(\"figs/no-pixel-error.pdf\",bbox_inches='tight')\n",
    "else:\n",
    "    plt.show()\n",
    "plt.clf()"
   ]
  },
  {
   "cell_type": "code",
   "execution_count": null,
   "metadata": {},
   "outputs": [],
   "source": []
  },
  {
   "cell_type": "markdown",
   "metadata": {},
   "source": [
    "### 1.5 show with pixel error, radii are less gaussian (linear error as a function of ) hmmm... ignore\n",
    "This is actually more gaussian..."
   ]
  },
  {
   "cell_type": "code",
   "execution_count": 8,
   "metadata": {},
   "outputs": [],
   "source": [
    "with_pixel_err = evaluate_error_model(camera_pos_samples=100, camera_instances_per=50, samples_per_camera=25,\n",
    "                                use_err_pixel=True)"
   ]
  },
  {
   "cell_type": "code",
   "execution_count": 9,
   "metadata": {},
   "outputs": [
    {
     "name": "stdout",
     "output_type": "stream",
     "text": [
      "Number of outliers (>3.0) discarded: 634/125000 ... 0.005072\n",
      "Mean: 0.209211554306\n",
      "stddev: 0.2304936282\n",
      "Median: 0.146787631393\n"
     ]
    },
    {
     "data": {
      "text/plain": [
       "<Figure size 432x288 with 0 Axes>"
      ]
     },
     "metadata": {},
     "output_type": "display_data"
    },
    {
     "data": {
      "image/png": "[encoded data removed]",
      "text/plain": [
       "<Figure size 432x216 with 1 Axes>"
      ]
     },
     "metadata": {},
     "output_type": "display_data"
    }
   ],
   "source": [
    "plt.clf()\n",
    "plt.figure(figsize=(6,3))\n",
    "\n",
    "all_radii_with_pixel = np.array([res['predicted_error_radius'] for res in with_pixel_err]).ravel()\n",
    "outliers = all_radii_with_pixel > outlier_cutoff\n",
    "num_outliers, total = np.count_nonzero(outliers), all_radii_with_pixel.shape[0]\n",
    "non_outliers = all_radii_with_pixel[~outliers]\n",
    "plt.hist(non_outliers, bins=200)\n",
    "print(\"Number of outliers (>{3}) discarded: {0}/{1} ... {2}\".format(num_outliers, total, num_outliers/float(total), outlier_cutoff))\n",
    "print(\"Mean: {0}\".format(np.mean(non_outliers)))\n",
    "print(\"stddev: {0}\".format(np.var(non_outliers)**0.5 ))\n",
    "print(\"Median: {0}\".format(np.median(non_outliers)))\n",
    "\n",
    "plt.ylabel(\"Frequency\")\n",
    "plt.xlabel(\"Error Radius (meters)\")\n",
    "plt.tight_layout()\n",
    "if save:\n",
    "    plt.savefig(\"figs/error_radius_distribution.pdf\",bbox_inches='tight')\n",
    "    plt.savefig(\"figs/error_radius_distribution.pgf\",bbox_inches='tight')\n",
    "else:\n",
    "    plt.show()"
   ]
  },
  {
   "cell_type": "markdown",
   "metadata": {},
   "source": [
    "### 2. Show that most of the true errors are less than the predicted ones"
   ]
  },
  {
   "cell_type": "code",
   "execution_count": 10,
   "metadata": {},
   "outputs": [],
   "source": [
    "sampled_results = evaluate_error_model(camera_pos_samples=50, camera_instances_per=50, samples_per_camera=50)"
   ]
  },
  {
   "cell_type": "code",
   "execution_count": 11,
   "metadata": {},
   "outputs": [
    {
     "name": "stdout",
     "output_type": "stream",
     "text": [
      "Errors within predicted error radius: 123973/125000 ... 0.991784\n",
      "Errors not within error radius: 1027/125000 ... 0.008216\n"
     ]
    }
   ],
   "source": [
    "all_errors = np.array([res['vehicle_center_prediction_error'] for res in sampled_results]).ravel()\n",
    "all_radii = np.array([res['predicted_error_radius'] for res in sampled_results]).ravel()\n",
    "outlier_cutoff_2 = 99999\n",
    "outliers = all_radii > outlier_cutoff_2 # remove all the ones with too high of a predicted error radius\n",
    "\n",
    "# remove outliers\n",
    "errors = all_errors[~outliers]\n",
    "radii = all_radii[~outliers]\n",
    "\n",
    "# count correctly within radius\n",
    "errs_within_radii = errors < radii\n",
    "n_within, n_total = np.count_nonzero(errs_within_radii), all_radii.shape[0]\n",
    "\n",
    "print(\"Errors within predicted error radius: {0}/{1} ... {2}\".format(n_within, n_total, float(n_within)/n_total))\n",
    "print(\"Errors not within error radius: {0}/{1} ... {2}\".format(n_total-n_within, n_total, float(n_total-n_within)/n_total))\n",
    "\n"
   ]
  },
  {
   "cell_type": "code",
   "execution_count": 12,
   "metadata": {},
   "outputs": [
    {
     "name": "stdout",
     "output_type": "stream",
     "text": [
      "outliers removed (>3.0): 0 ... 0.0\n"
     ]
    }
   ],
   "source": [
    "print(\"outliers removed (>{0}): {1} ... {2}\".format(outlier_cutoff, np.count_nonzero(outliers), np.count_nonzero(outliers)/float(outliers.shape[0])))"
   ]
  },
  {
   "cell_type": "code",
   "execution_count": null,
   "metadata": {
    "scrolled": true
   },
   "outputs": [],
   "source": [
    "plt.clf()\n",
    "plt.figure(figsize=(6,3))\n",
    "\n",
    "# examine distribution of differences\n",
    "diffs = radii - errors\n",
    "inside_diffs = diffs[diffs > 0]\n",
    "outside_diffs = diffs[diffs < 0]\n",
    "print(\"Mean positive difference: {0}\".format(np.mean(diffs[diffs > 0])))\n",
    "_ = plt.hist(inside_diffs, bins=500)\n",
    "_ = plt.hist(outside_diffs, bins=500)\n",
    "plt.xlim(-0.4, 1.0)\n",
    "# plt.ylim(-1, 1000)\n",
    "_ = plt.xlabel(\"Difference (Error Radius - True Error)\")\n",
    "_ = plt.ylabel(\"Occurrences\")\n",
    "\n",
    "plt.tight_layout()\n",
    "if save:\n",
    "    plt.savefig('figs/diff_radius_true_error.pdf',bbox_inches='tight')\n",
    "    plt.savefig('figs/diff_radius_true_error.pgf',bbox_inches='tight')\n",
    "else:\n",
    "    plt.show()"
   ]
  },
  {
   "cell_type": "code",
   "execution_count": 14,
   "metadata": {},
   "outputs": [
    {
     "data": {
      "text/plain": [
       "<Figure size 432x288 with 0 Axes>"
      ]
     },
     "metadata": {},
     "output_type": "display_data"
    },
    {
     "data": {
      "image/png": "[encoded data removed]",
      "text/plain": [
       "<Figure size 432x216 with 1 Axes>"
      ]
     },
     "metadata": {},
     "output_type": "display_data"
    }
   ],
   "source": [
    "plt.clf()\n",
    "plt.figure(figsize=(6,3))\n",
    "\n",
    "percent_diff = (diffs / radii)\n",
    "negative_percents = percent_diff[percent_diff < 0]\n",
    "positive_percents = percent_diff[percent_diff >= 0]\n",
    "plt.xlim(-1, 1)\n",
    "_ = plt.xlabel(\"Predicted Error Radius - True Error as %\")\n",
    "_ = plt.ylabel(\"Occurrences\")\n",
    "_ = plt.hist(positive_percents, bins=50)\n",
    "_ = plt.hist(negative_percents, bins=50)\n",
    "\n",
    "plt.tight_layout()\n",
    "if save:\n",
    "    plt.savefig('figs/proportion_radius_true_error.pdf',bbox_inches='tight')\n",
    "    plt.savefig('figs/proportion_radius_true_error.pgf',bbox_inches='tight')\n",
    "else:\n",
    "    plt.show()"
   ]
  },
  {
   "cell_type": "code",
   "execution_count": null,
   "metadata": {},
   "outputs": [],
   "source": []
  },
  {
   "cell_type": "markdown",
   "metadata": {},
   "source": [
    "### 3. How components of the error vary as the pitch angle changes\n",
    "1. instantiate camera at official angle 90 pitch -> 40 pitch, at 20 degree increments\n",
    "2. randomly sample and collect components of the error\n",
    "3. Show how the components grow on average as pitch angle changes (3 side by side bars for easy visual comparison)\n"
   ]
  },
  {
   "cell_type": "code",
   "execution_count": 15,
   "metadata": {
    "scrolled": true
   },
   "outputs": [
    {
     "name": "stdout",
     "output_type": "stream",
     "text": [
      "Proportion of errors within radius at pitch angle 31.0: 0.9924\n",
      "Mean radius: 0.737525207536\n",
      "Median radius: 0.154568585984\n",
      "\n",
      "\n",
      "Proportion of errors within radius at pitch angle 41.0: 0.9996\n",
      "Mean radius: 0.157163055153\n",
      "Median radius: 0.116757691237\n",
      "\n",
      "\n",
      "Proportion of errors within radius at pitch angle 51.0: 1.0\n",
      "Mean radius: 0.111118399913\n",
      "Median radius: 0.0980515436994\n",
      "\n",
      "\n",
      "Proportion of errors within radius at pitch angle 61.0: 1.0\n",
      "Mean radius: 0.0918984083171\n",
      "Median radius: 0.0863602526169\n",
      "\n",
      "\n",
      "Proportion of errors within radius at pitch angle 71.0: 1.0\n",
      "Mean radius: 0.0822982014175\n",
      "Median radius: 0.0791432214998\n",
      "\n",
      "\n",
      "Proportion of errors within radius at pitch angle 81.0: 0.9992\n",
      "Mean radius: 0.0773996890672\n",
      "Median radius: 0.0762728226986\n",
      "\n",
      "\n",
      "Proportion of errors within radius at pitch angle 91.0: 1.0\n",
      "Mean radius: 0.0760024740491\n",
      "Median radius: 0.0763529733106\n",
      "\n",
      "\n"
     ]
    }
   ],
   "source": [
    "vary_pitch_results = []\n",
    "for pitch in np.arange(31.0, 92.0, 10.0):\n",
    "    vary_pitch_results.append(do_eval(np.array([0.0, 0.0, 6.0]), \n",
    "                      pitch,\n",
    "                      0.0,              \n",
    "                      sigma_pos=0.03/2.0,\n",
    "                      sigma_orient_deg=0.05/2,\n",
    "                      n_samples_per_camera=50,\n",
    "                      n_camera_instances=50,\n",
    "                      orientation_percent=0.9,\n",
    "                      pos_percent=0.9,\n",
    "                      alg_error=1.0,\n",
    "                    )\n",
    "    )\n",
    "    \n",
    "    # just spit out the error < radius stats\n",
    "    radii = vary_pitch_results[-1]['predicted_error_radius'].ravel()\n",
    "    errors = vary_pitch_results[-1]['vehicle_center_prediction_error'].ravel()\n",
    "    within = errors < radii\n",
    "    biases = vary_pitch_results[-1]['camera_biases']\n",
    "    #print(\"Camera shifts and skews: {0}, {1}\".format(biases[:, 0], biases[:, 1]))\n",
    "    print(\"Proportion of errors within radius at pitch angle {0}: {1}\".format(pitch, np.count_nonzero(within)/float(radii.shape[0])))\n",
    "    print(\"Mean radius: {0}\".format(np.mean(radii)))\n",
    "    print(\"Median radius: {0}\\n\\n\".format(np.median(radii)))\n",
    "    \n",
    "#     _ = plt.hist((radii-errors), bins=50)\n",
    "#     plt.figure()\n",
    "    "
   ]
  },
  {
   "cell_type": "code",
   "execution_count": 16,
   "metadata": {},
   "outputs": [
    {
     "name": "stdout",
     "output_type": "stream",
     "text": [
      "Number of outliers removed (> 5.0): 79/2421 ... 0.0326311441553\n",
      "Number of outliers removed (> 5.0): 0/2500 ... 0.0\n",
      "Number of outliers removed (> 5.0): 0/2500 ... 0.0\n",
      "Number of outliers removed (> 5.0): 0/2500 ... 0.0\n",
      "Number of outliers removed (> 5.0): 0/2500 ... 0.0\n",
      "Number of outliers removed (> 5.0): 0/2500 ... 0.0\n",
      "Number of outliers removed (> 5.0): 0/2500 ... 0.0\n"
     ]
    },
    {
     "data": {
      "text/plain": [
       "<Figure size 432x288 with 0 Axes>"
      ]
     },
     "metadata": {},
     "output_type": "display_data"
    }
   ],
   "source": [
    "outlier_cutoff = 5.0\n",
    "# outlier_cutoff = 99999999\n",
    "\n",
    "plt.clf()\n",
    "\n",
    "vary_pitch_stats_summary = {}\n",
    "for index, result in enumerate(vary_pitch_results):\n",
    "    angle = 31 + 10*index\n",
    "    vary_pitch_stats_summary[angle] = {}\n",
    "    \n",
    "    total_error_radii = result['predicted_error_radius'].ravel()\n",
    "    outliers = total_error_radii > outlier_cutoff\n",
    "    total_error_radii = total_error_radii[~outliers]\n",
    "    n_outliers, n_total = np.count_nonzero(outliers), total_error_radii.shape[0]\n",
    "    print(\"Number of outliers removed (> {0}): {1}/{2} ... {3}\".format(outlier_cutoff, n_outliers, n_total, n_outliers/float(n_total)))\n",
    "    mean, median, stddev = np.mean(total_error_radii), np.median(total_error_radii), np.var(total_error_radii)**0.5\n",
    "    vary_pitch_stats_summary[angle]['total_error'] = {\n",
    "        'mean': mean,\n",
    "        \"media\": median,\n",
    "        '99th percentile': np.percentile(total_error_radii, 99.0),\n",
    "        \"stddev\": stddev\n",
    "    }\n",
    "    \n",
    "    xy_errs = result['xy_errors'].ravel() # constant\n",
    "    xy_errs = xy_errs[~outliers]\n",
    "    mean_xy, med_xy, stddev_xy = np.mean(xy_errs), np.median(xy_errs), np.var(xy_errs)**0.5\n",
    "    percentile_xy = np.percentile(xy_errs, 99.0)\n",
    "    vary_pitch_stats_summary[angle]['XY Error Radius'] = {\n",
    "        'mean': mean_xy,\n",
    "        'median': med_xy,\n",
    "        '99th percentile': percentile_xy,\n",
    "        'stddev': stddev_xy\n",
    "    }\n",
    "    \n",
    "    z_errs = result['z_errors'].ravel()\n",
    "    z_errs = z_errs[~outliers]\n",
    "    mean_z, med_z, stddev_z = np.mean(z_errs), np.median(z_errs), np.var(z_errs)**0.5\n",
    "    percentile_z = np.percentile(z_errs, 99.0)\n",
    "    vary_pitch_stats_summary[angle]['Z Error Radius']= {\n",
    "        'mean': mean_z,\n",
    "        'median': med_z,\n",
    "        '99th percentile': percentile_z,\n",
    "        'stddev': stddev_z\n",
    "    }\n",
    "\n",
    "    orient_errs = result['orientation_errors'].ravel()\n",
    "    orient_errs = orient_errs[~outliers]\n",
    "    mean_or, med_or, stddev_or = np.mean(orient_errs), np.median(orient_errs), np.var(orient_errs)**0.5\n",
    "    percentile_or = np.percentile(orient_errs, 99.0)\n",
    "    vary_pitch_stats_summary[angle]['Orientation Error Radius']= {\n",
    "        'mean': mean_or,\n",
    "        'median': med_or,\n",
    "        '99th percentile': percentile_or,\n",
    "        'stddev': stddev_or\n",
    "    }\n",
    "\n",
    "    pixel_alg_errs = result['pixel_alg_errors'].ravel()\n",
    "    pixel_alg_errs = pixel_alg_errs[~outliers]\n",
    "    mean_p, med_p, stddev_p = np.mean(pixel_alg_errs), np.median(pixel_alg_errs), np.var(pixel_alg_errs)**0.5\n",
    "    percentile_p = np.percentile(pixel_alg_errs, 99.0)\n",
    "    vary_pitch_stats_summary[angle]['Pixel and Algorithmic Error Radius']= {\n",
    "        'mean': mean_p,\n",
    "        'median': med_p,\n",
    "        '99th percentile': percentile_p,\n",
    "        'stddev': stddev_p\n",
    "    }\n",
    "    \n",
    "    mean_total = mean_xy + mean_z + mean_p + mean_or\n",
    "    xy_mean_norm, z_mean_norm, or_mean_norm, p_mean_norm = mean_xy/mean_total, mean_z/mean_total, mean_or/mean_total, mean_p/mean_total\n",
    "    \n",
    "    med_total = med_xy + med_z + med_p + med_or\n",
    "    xy_med_norm, z_med_norm, or_med_norm, p_med_norm = med_xy/med_total, med_z/med_total,med_or/med_total, med_p/med_total\n",
    "    \n",
    "\n",
    "    percentile_total = med_xy + med_z + med_p + med_or\n",
    "    xy_med_norm, z_med_norm, or_med_norm, p_med_norm = med_xy/med_total, med_z/med_total,med_or/med_total, med_p/med_total\n",
    "    \n",
    "    percentile_total = percentile_xy + percentile_z + percentile_p + percentile_or\n",
    "    xy_perc_norm, z_perc_norm, or_perc_norm, p_perc_norm = percentile_xy/percentile_total, percentile_z/percentile_total, percentile_or/percentile_total, percentile_p/percentile_total\n",
    "    \n",
    "    vary_pitch_stats_summary[angle][\"normalized_summary\"] = {\n",
    "        \"means\": {\n",
    "            \"xy error\" : xy_mean_norm,\n",
    "            \"z error\": z_mean_norm,\n",
    "            \"orientation error\": or_mean_norm,\n",
    "            \"pixel and algorithm error\": p_mean_norm\n",
    "        },\n",
    "        \"medians\": {\n",
    "            \"xy error\" : xy_med_norm,\n",
    "            \"z error\": z_med_norm,\n",
    "            \"orientation error\": or_med_norm,\n",
    "            \"pixel and algorithm error\": p_med_norm\n",
    "        },\n",
    "        \"99th percentile\": {\n",
    "            \"xy error\" : xy_perc_norm,\n",
    "            \"z error\": z_perc_norm,\n",
    "            \"orientation error\": or_perc_norm,\n",
    "            \"pixel and algorithm error\": p_perc_norm\n",
    "        }\n",
    "    }\n",
    "    # TODO stick these in a summary dict\n",
    "    # TODO make them into a figure of relative important as a function of pitch angle as a sanity check"
   ]
  },
  {
   "cell_type": "code",
   "execution_count": 17,
   "metadata": {
    "scrolled": true
   },
   "outputs": [
    {
     "name": "stdout",
     "output_type": "stream",
     "text": [
      "{\n",
      "    \"31\": {\n",
      "        \"Orientation Error Radius\": {\n",
      "            \"99th percentile\": 1.3072863139276882, \n",
      "            \"mean\": 0.08919598992202252, \n",
      "            \"median\": 0.01329423027907417, \n",
      "            \"stddev\": 0.2344227254333327\n",
      "        }, \n",
      "        \"Pixel and Algorithmic Error Radius\": {\n",
      "            \"99th percentile\": 1.3796428970472208, \n",
      "            \"mean\": 0.144013269813888, \n",
      "            \"median\": 0.0510960173695578, \n",
      "            \"stddev\": 0.24983746673721005\n",
      "        }, \n",
      "        \"XY Error Radius\": {\n",
      "            \"99th percentile\": 0.03844654696633801, \n",
      "            \"mean\": 0.03844654696633801, \n",
      "            \"median\": 0.03844654696633801, \n",
      "            \"stddev\": 0.0\n",
      "        }, \n",
      "        \"Z Error Radius\": {\n",
      "            \"99th percentile\": 0.3768793386284921, \n",
      "            \"mean\": 0.06233061440957234, \n",
      "            \"median\": 0.03306509214730357, \n",
      "            \"stddev\": 0.07416060401709022\n",
      "        }, \n",
      "        \"normalized_summary\": {\n",
      "            \"99th percentile\": {\n",
      "                \"orientation error\": 0.42139871584809246, \n",
      "                \"pixel and algorithm error\": 0.44472258215410304, \n",
      "                \"xy error\": 0.012393096560256943, \n",
      "                \"z error\": 0.12148560543754748\n",
      "            }, \n",
      "            \"means\": {\n",
      "                \"orientation error\": 0.2670647196526565, \n",
      "                \"pixel and algorithm error\": 0.43119498491728026, \n",
      "                \"xy error\": 0.11511410205945423, \n",
      "                \"z error\": 0.18662619337060904\n",
      "            }, \n",
      "            \"medians\": {\n",
      "                \"orientation error\": 0.09782226425104097, \n",
      "                \"pixel and algorithm error\": 0.37597724790191867, \n",
      "                \"xy error\": 0.2828992877309397, \n",
      "                \"z error\": 0.24330120011610068\n",
      "            }\n",
      "        }, \n",
      "        \"total_error\": {\n",
      "            \"99th percentile\": 3.454947808672726, \n",
      "            \"mean\": 0.374533582687118, \n",
      "            \"media\": 0.14988310080224543, \n",
      "            \"stddev\": 0.6238521383422839\n",
      "        }\n",
      "    }, \n",
      "    \"41\": {\n",
      "        \"Orientation Error Radius\": {\n",
      "            \"99th percentile\": 0.09035850152634826, \n",
      "            \"mean\": 0.01791048255398494, \n",
      "            \"median\": 0.008480802009076527, \n",
      "            \"stddev\": 0.020209895770075002\n",
      "        }, \n",
      "        \"Pixel and Algorithmic Error Radius\": {\n",
      "            \"99th percentile\": 0.17970407476289094, \n",
      "            \"mean\": 0.05326316212370489, \n",
      "            \"median\": 0.03642280067219189, \n",
      "            \"stddev\": 0.04006415217605256\n",
      "        }, \n",
      "        \"XY Error Radius\": {\n",
      "            \"99th percentile\": 0.03844654696633801, \n",
      "            \"mean\": 0.038446546966338, \n",
      "            \"median\": 0.03844654696633801, \n",
      "            \"stddev\": 6.938893903907228e-18\n",
      "        }, \n",
      "        \"Z Error Radius\": {\n",
      "            \"99th percentile\": 0.09774643173321357, \n",
      "            \"mean\": 0.032546536827483985, \n",
      "            \"median\": 0.023746715741750808, \n",
      "            \"stddev\": 0.02324970822769757\n",
      "        }, \n",
      "        \"normalized_summary\": {\n",
      "            \"99th percentile\": {\n",
      "                \"orientation error\": 0.22241788553227634, \n",
      "                \"pixel and algorithm error\": 0.44234244321372845, \n",
      "                \"xy error\": 0.09463636003056944, \n",
      "                \"z error\": 0.2406033112234257\n",
      "            }, \n",
      "            \"means\": {\n",
      "                \"orientation error\": 0.1259822375217275, \n",
      "                \"pixel and algorithm error\": 0.37465279461908746, \n",
      "                \"xy error\": 0.2704328036502728, \n",
      "                \"z error\": 0.22893216420891224\n",
      "            }, \n",
      "            \"medians\": {\n",
      "                \"orientation error\": 0.0791881440996807, \n",
      "                \"pixel and algorithm error\": 0.34009212631737223, \n",
      "                \"xy error\": 0.35898853646708734, \n",
      "                \"z error\": 0.2217311931158598\n",
      "            }\n",
      "        }, \n",
      "        \"total_error\": {\n",
      "            \"99th percentile\": 0.4553297954488785, \n",
      "            \"mean\": 0.15716305515329676, \n",
      "            \"media\": 0.11675769123730581, \n",
      "            \"stddev\": 0.0943386754698244\n",
      "        }\n",
      "    }, \n",
      "    \"51\": {\n",
      "        \"Orientation Error Radius\": {\n",
      "            \"99th percentile\": 0.02831113553816891, \n",
      "            \"mean\": 0.008898996552807119, \n",
      "            \"median\": 0.00606070793308966, \n",
      "            \"stddev\": 0.006341847669204388\n",
      "        }, \n",
      "        \"Pixel and Algorithmic Error Radius\": {\n",
      "            \"99th percentile\": 0.07228998941588843, \n",
      "            \"mean\": 0.033349345017450266, \n",
      "            \"median\": 0.028312921308267625, \n",
      "            \"stddev\": 0.015461783978625649\n",
      "        }, \n",
      "        \"XY Error Radius\": {\n",
      "            \"99th percentile\": 0.03844654696633801, \n",
      "            \"mean\": 0.038446546966338, \n",
      "            \"median\": 0.03844654696633801, \n",
      "            \"stddev\": 6.938893903907228e-18\n",
      "        }, \n",
      "        \"Z Error Radius\": {\n",
      "            \"99th percentile\": 0.052382609016420244, \n",
      "            \"mean\": 0.021033951077334537, \n",
      "            \"median\": 0.017252958690923303, \n",
      "            \"stddev\": 0.012935618225902352\n",
      "        }, \n",
      "        \"normalized_summary\": {\n",
      "            \"99th percentile\": {\n",
      "                \"orientation error\": 0.14789267089626965, \n",
      "                \"pixel and algorithm error\": 0.37763090072332295, \n",
      "                \"xy error\": 0.2008383771793547, \n",
      "                \"z error\": 0.27363805120105267\n",
      "            }, \n",
      "            \"means\": {\n",
      "                \"orientation error\": 0.08747761781791288, \n",
      "                \"pixel and algorithm error\": 0.32782586672583724, \n",
      "                \"xy error\": 0.3779316377955956, \n",
      "                \"z error\": 0.20676487766065424\n",
      "            }, \n",
      "            \"medians\": {\n",
      "                \"orientation error\": 0.06728652155730187, \n",
      "                \"pixel and algorithm error\": 0.3143325847394465, \n",
      "                \"xy error\": 0.4268370031709382, \n",
      "                \"z error\": 0.19154389053231347\n",
      "            }\n",
      "        }, \n",
      "        \"total_error\": {\n",
      "            \"99th percentile\": 0.21086407689837391, \n",
      "            \"mean\": 0.11111839991348006, \n",
      "            \"media\": 0.09805154369935545, \n",
      "            \"stddev\": 0.03887184517488919\n",
      "        }\n",
      "    }, \n",
      "    \"61\": {\n",
      "        \"Orientation Error Radius\": {\n",
      "            \"99th percentile\": 0.013619880226747984, \n",
      "            \"mean\": 0.005997422113647024, \n",
      "            \"median\": 0.004868507161027935, \n",
      "            \"stddev\": 0.0027320568684430875\n",
      "        }, \n",
      "        \"Pixel and Algorithmic Error Radius\": {\n",
      "            \"99th percentile\": 0.04216877794447898, \n",
      "            \"mean\": 0.025556425011458873, \n",
      "            \"median\": 0.023703057980430615, \n",
      "            \"stddev\": 0.007513158201772864\n",
      "        }, \n",
      "        \"XY Error Radius\": {\n",
      "            \"99th percentile\": 0.03844654696633801, \n",
      "            \"mean\": 0.038446546966338, \n",
      "            \"median\": 0.03844654696633801, \n",
      "            \"stddev\": 6.938893903907228e-18\n",
      "        }, \n",
      "        \"Z Error Radius\": {\n",
      "            \"99th percentile\": 0.033602229845337575, \n",
      "            \"mean\": 0.014702562753914683, \n",
      "            \"median\": 0.012903013772627264, \n",
      "            \"stddev\": 0.008631808567772833\n",
      "        }, \n",
      "        \"normalized_summary\": {\n",
      "            \"99th percentile\": {\n",
      "                \"orientation error\": 0.10654062504124523, \n",
      "                \"pixel and algorithm error\": 0.3298625160158978, \n",
      "                \"xy error\": 0.30074560688330454, \n",
      "                \"z error\": 0.26285125205955256\n",
      "            }, \n",
      "            \"means\": {\n",
      "                \"orientation error\": 0.07080534537414629, \n",
      "                \"pixel and algorithm error\": 0.30171821578929064, \n",
      "                \"xy error\": 0.45389852253362906, \n",
      "                \"z error\": 0.173577916302934\n",
      "            }, \n",
      "            \"medians\": {\n",
      "                \"orientation error\": 0.060916398604194906, \n",
      "                \"pixel and algorithm error\": 0.2965806314577524, \n",
      "                \"xy error\": 0.48105612305638507, \n",
      "                \"z error\": 0.16144684688166755\n",
      "            }\n",
      "        }, \n",
      "        \"total_error\": {\n",
      "            \"99th percentile\": 0.13871054524724524, \n",
      "            \"mean\": 0.091898408317058, \n",
      "            \"media\": 0.0863602526169223, \n",
      "            \"stddev\": 0.0207914499601715\n",
      "        }\n",
      "    }, \n",
      "    \"71\": {\n",
      "        \"Orientation Error Radius\": {\n",
      "            \"99th percentile\": 0.008667284634581413, \n",
      "            \"mean\": 0.004804338471520421, \n",
      "            \"median\": 0.004251217918605388, \n",
      "            \"stddev\": 0.0013914069047728738\n",
      "        }, \n",
      "        \"Pixel and Algorithmic Error Radius\": {\n",
      "            \"99th percentile\": 0.029550275396217768, \n",
      "            \"mean\": 0.021803372611528073, \n",
      "            \"median\": 0.021183898446910196, \n",
      "            \"stddev\": 0.0038870143372009332\n",
      "        }, \n",
      "        \"XY Error Radius\": {\n",
      "            \"99th percentile\": 0.03844654696633801, \n",
      "            \"mean\": 0.038446546966338, \n",
      "            \"median\": 0.03844654696633801, \n",
      "            \"stddev\": 6.938893903907228e-18\n",
      "        }, \n",
      "        \"Z Error Radius\": {\n",
      "            \"99th percentile\": 0.02417477732131699, \n",
      "            \"mean\": 0.011105169675167661, \n",
      "            \"median\": 0.009927986368580957, \n",
      "            \"stddev\": 0.00600831167387472\n",
      "        }, \n",
      "        \"normalized_summary\": {\n",
      "            \"99th percentile\": {\n",
      "                \"orientation error\": 0.08595181008954542, \n",
      "                \"pixel and algorithm error\": 0.2930444500248192, \n",
      "                \"xy error\": 0.38126707991851555, \n",
      "                \"z error\": 0.23973665996711993\n",
      "            }, \n",
      "            \"means\": {\n",
      "                \"orientation error\": 0.06308264931948115, \n",
      "                \"pixel and algorithm error\": 0.2862859302250056, \n",
      "                \"xy error\": 0.5048166473281238, \n",
      "                \"z error\": 0.1458147731273892\n",
      "            }, \n",
      "            \"medians\": {\n",
      "                \"orientation error\": 0.05759704775540154, \n",
      "                \"pixel and algorithm error\": 0.28700716685267613, \n",
      "                \"xy error\": 0.5208878123982162, \n",
      "                \"z error\": 0.1345079729937061\n",
      "            }\n",
      "        }, \n",
      "        \"total_error\": {\n",
      "            \"99th percentile\": 0.10860050895425385, \n",
      "            \"mean\": 0.08229820141748215, \n",
      "            \"media\": 0.07914322149979178, \n",
      "            \"stddev\": 0.012082555338209804\n",
      "        }\n",
      "    }, \n",
      "    \"81\": {\n",
      "        \"Orientation Error Radius\": {\n",
      "            \"99th percentile\": 0.006346016915118228, \n",
      "            \"mean\": 0.004231754207895928, \n",
      "            \"median\": 0.004062809244022247, \n",
      "            \"stddev\": 0.0006984436031385285\n",
      "        }, \n",
      "        \"Pixel and Algorithmic Error Radius\": {\n",
      "            \"99th percentile\": 0.022987692500767713, \n",
      "            \"mean\": 0.020081363393805667, \n",
      "            \"median\": 0.020020008969856895, \n",
      "            \"stddev\": 0.0015798911707405714\n",
      "        }, \n",
      "        \"XY Error Radius\": {\n",
      "            \"99th percentile\": 0.03844654696633801, \n",
      "            \"mean\": 0.038446546966338, \n",
      "            \"median\": 0.03844654696633801, \n",
      "            \"stddev\": 6.938893903907228e-18\n",
      "        }, \n",
      "        \"Z Error Radius\": {\n",
      "            \"99th percentile\": 0.018139874881827275, \n",
      "            \"mean\": 0.008986085197400939, \n",
      "            \"median\": 0.008822341666507074, \n",
      "            \"stddev\": 0.00395932292631052\n",
      "        }, \n",
      "        \"normalized_summary\": {\n",
      "            \"99th percentile\": {\n",
      "                \"orientation error\": 0.0738594881287546, \n",
      "                \"pixel and algorithm error\": 0.2675472227820689, \n",
      "                \"xy error\": 0.44746843842898026, \n",
      "                \"z error\": 0.21112485066019626\n",
      "            }, \n",
      "            \"means\": {\n",
      "                \"orientation error\": 0.0589826466617307, \n",
      "                \"pixel and algorithm error\": 0.2798962093149486, \n",
      "                \"xy error\": 0.5358721191433901, \n",
      "                \"z error\": 0.12524902487993061\n",
      "            }, \n",
      "            \"medians\": {\n",
      "                \"orientation error\": 0.056940603435736474, \n",
      "                \"pixel and algorithm error\": 0.28058206109719735, \n",
      "                \"xy error\": 0.5388314963358595, \n",
      "                \"z error\": 0.12364583913120657\n",
      "            }\n",
      "        }, \n",
      "        \"total_error\": {\n",
      "            \"99th percentile\": 0.09203503788868803, \n",
      "            \"mean\": 0.07739968906723654, \n",
      "            \"media\": 0.07627282269857945, \n",
      "            \"stddev\": 0.006190780839577026\n",
      "        }\n",
      "    }, \n",
      "    \"91\": {\n",
      "        \"Orientation Error Radius\": {\n",
      "            \"99th percentile\": 0.005293754587099401, \n",
      "            \"mean\": 0.004080286957800023, \n",
      "            \"median\": 0.004052077755756667, \n",
      "            \"stddev\": 0.0004702474981547428\n",
      "        }, \n",
      "        \"Pixel and Algorithmic Error Radius\": {\n",
      "            \"99th percentile\": 0.019893847298938856, \n",
      "            \"mean\": 0.019607297500534783, \n",
      "            \"median\": 0.019611348015336323, \n",
      "            \"stddev\": 0.00017010961533862868\n",
      "        }, \n",
      "        \"XY Error Radius\": {\n",
      "            \"99th percentile\": 0.03844654696633801, \n",
      "            \"mean\": 0.038446546966338, \n",
      "            \"median\": 0.03844654696633801, \n",
      "            \"stddev\": 6.938893903907228e-18\n",
      "        }, \n",
      "        \"Z Error Radius\": {\n",
      "            \"99th percentile\": 0.014604064975608445, \n",
      "            \"mean\": 0.008347877317072672, \n",
      "            \"median\": 0.008755165265086406, \n",
      "            \"stddev\": 0.0031737587136108554\n",
      "        }, \n",
      "        \"normalized_summary\": {\n",
      "            \"99th percentile\": {\n",
      "                \"orientation error\": 0.06766200719687059, \n",
      "                \"pixel and algorithm error\": 0.2542727693487183, \n",
      "                \"xy error\": 0.4914036899010369, \n",
      "                \"z error\": 0.1866615335533744\n",
      "            }, \n",
      "            \"means\": {\n",
      "                \"orientation error\": 0.05789118429854465, \n",
      "                \"pixel and algorithm error\": 0.2781886874475764, \n",
      "                \"xy error\": 0.5454802956483654, \n",
      "                \"z error\": 0.11843983260551347\n",
      "            }, \n",
      "            \"medians\": {\n",
      "                \"orientation error\": 0.05718012932695794, \n",
      "                \"pixel and algorithm error\": 0.27674183058303864, \n",
      "                \"xy error\": 0.542531180352351, \n",
      "                \"z error\": 0.12354685973765253\n",
      "            }\n",
      "        }, \n",
      "        \"total_error\": {\n",
      "            \"99th percentile\": 0.08368351461709526, \n",
      "            \"mean\": 0.07600247404911979, \n",
      "            \"media\": 0.07635297331063973, \n",
      "            \"stddev\": 0.003666392235098387\n",
      "        }\n",
      "    }\n",
      "}\n"
     ]
    }
   ],
   "source": [
    "print(json.dumps(vary_pitch_stats_summary, sort_keys=True, indent=4))"
   ]
  },
  {
   "cell_type": "code",
   "execution_count": 18,
   "metadata": {},
   "outputs": [],
   "source": [
    "def sidebyside_bar(series, xlabels, series_labels, ylabel, xlabel, error_bars=None, label_suffix=\"\", label_multiplier=1, label_decimals=2, figsize=(8,6), width=0.27, label_height_offset_mult=1.0, legend_loc='best'):\n",
    "    if error_bars is None:\n",
    "        error_bars = np.zeros_like(series)\n",
    "        \n",
    "    fig = plt.figure(figsize=figsize)\n",
    "    ax = fig.add_subplot(111)\n",
    "    \n",
    "    n = series.shape[1]\n",
    "    ind = (np.arange(n) - 0.5) * (width/0.27)\n",
    "    \n",
    "    width = width * 3 / len(series_labels)\n",
    "    \n",
    "    rects = []\n",
    "    for index, data in enumerate(series):\n",
    "        yerr = error_bars[index]\n",
    "        if yerr is None:\n",
    "            yerr = np.zeros_like(data)\n",
    "        rects.append(ax.bar(ind + width*index, data, width, yerr=yerr))\n",
    "        \n",
    "    ax.set_ylabel(ylabel)\n",
    "    ax.set_xticks(ind + 0.5 * (len(series_labels) -1) *width)\n",
    "    ax.set_xticklabels( xlabels )\n",
    "    ax.legend( rects, series_labels, loc=legend_loc)\n",
    "    ax.set_xlabel(xlabel)\n",
    "    \n",
    "    def autolabel(rects):\n",
    "        for rect in rects:\n",
    "            h = rect.get_height()\n",
    "            ax.text(rect.get_x()+rect.get_width()/2., h+0.005*label_height_offset_mult, ('%.'+str(label_decimals)+'f')%float(h*label_multiplier) + label_suffix,\n",
    "                    ha='center', va='bottom')\n",
    "    \n",
    "    for r in rects:\n",
    "        autolabel(r)\n",
    "    \n",
    "    \n",
    "    "
   ]
  },
  {
   "cell_type": "code",
   "execution_count": 19,
   "metadata": {},
   "outputs": [
    {
     "data": {
      "text/plain": [
       "<Figure size 432x288 with 0 Axes>"
      ]
     },
     "metadata": {},
     "output_type": "display_data"
    },
    {
     "data": {
      "text/plain": [
       "<Figure size 432x216 with 0 Axes>"
      ]
     },
     "metadata": {},
     "output_type": "display_data"
    },
    {
     "data": {
      "image/png": "[encoded data removed]",
      "text/plain": [
       "<Figure size 576x288 with 1 Axes>"
      ]
     },
     "metadata": {},
     "output_type": "display_data"
    }
   ],
   "source": [
    "plt.clf()\n",
    "\n",
    "plt.figure(figsize=(6,3))\n",
    "\n",
    "# plot absolute errors -- this is the most informative! Using means tells the best story, but tell reader to be aware of massive skews\n",
    "\n",
    "angles = [90, 70, 50, 40, 30]\n",
    "xy = np.array([vary_pitch_stats_summary[angle + 1][\"XY Error Radius\"]['mean'] for angle in angles])\n",
    "xy_stddev = np.array([vary_pitch_stats_summary[angle + 1][\"XY Error Radius\"]['stddev'] for angle in angles])\n",
    "\n",
    "z =  np.array([vary_pitch_stats_summary[angle + 1][\"Z Error Radius\"][\"mean\"] for angle in angles])\n",
    "z_stddev =  np.array([vary_pitch_stats_summary[angle + 1][\"Z Error Radius\"][\"stddev\"] for angle in angles])\n",
    "\n",
    "orientation = np.array([vary_pitch_stats_summary[angle + 1][\"Orientation Error Radius\"][\"mean\"] for angle in angles])\n",
    "orientation_stddev = np.array([vary_pitch_stats_summary[angle + 1][\"Orientation Error Radius\"][\"stddev\"] for angle in angles])\n",
    "\n",
    "pixel = np.array([vary_pitch_stats_summary[angle + 1][\"Pixel and Algorithmic Error Radius\"][\"mean\"] for angle in angles])\n",
    "pixel_stddev = np.array([vary_pitch_stats_summary[angle + 1][\"Pixel and Algorithmic Error Radius\"][\"stddev\"] for angle in angles])\n",
    "legend = [\"Mean XY Radius\", \"Mean Z Radius\", \"Mean Orientation Radius\", \"Mean Pixel Radius\"]\n",
    "\n",
    "xticks = [u\"${}^{{\\circ}}$\".format(angle) for angle in angles]\n",
    "# width = 0.4\n",
    "# ind = np.arange(0, len(angles))\n",
    "# bars = []\n",
    "# bars.append(plt.bar(ind, xy, width, yerr=xy_stddev))\n",
    "# bars.append(plt.bar(ind, z, width, bottom=xy, yerr=z_stddev))\n",
    "# bars.append(plt.bar(ind, orientation, width, bottom=xy+z, yerr=orientation_stddev,ecolor='purple'))\n",
    "# bars.append(plt.bar(ind, pixel, width, bottom=xy+z+orientation, yerr=pixel_stddev,ecolor='gray'))\n",
    "\n",
    "# plt.ylabel(\"Mean Predicted Error Radius (meters)\")\n",
    "# plt.xlabel(\"Pitch Angle\")\n",
    "# plt.xticks(ind, xticks)\n",
    "# plt.legend(bars, legend)\n",
    "\n",
    "sidebyside_bar(np.array([xy, z, orientation, pixel]), xticks, legend, \"Mean Predicted Error Radius (cm)\", \"Pitch Angle\", error_bars=2*np.array([xy_stddev, z_stddev, orientation_stddev, pixel_stddev]), label_decimals=1, label_multiplier=100, figsize=(8,4), label_height_offset_mult=0.25, legend_loc='upper left')\n",
    "plt.ylim(0, 0.7)\n",
    "plt.tight_layout()\n",
    "\n",
    "if save:\n",
    "    plt.savefig('figs/mean_error_pitch_variation_with_stddevs.pdf',bbox_inches='tight')\n",
    "    plt.savefig('figs/mean_error_pitch_variation_with_stddevs.pgf',bbox_inches='tight')\n",
    "else:\n",
    "    plt.show()"
   ]
  },
  {
   "cell_type": "code",
   "execution_count": 20,
   "metadata": {},
   "outputs": [
    {
     "data": {
      "image/png": "[encoded data removed]",
      "text/plain": [
       "<Figure size 432x288 with 1 Axes>"
      ]
     },
     "metadata": {},
     "output_type": "display_data"
    }
   ],
   "source": [
    "width = 0.4\n",
    "ind = np.arange(0, len(angles))\n",
    "bars = []\n",
    "bars.append(plt.bar(ind, xy, width))\n",
    "bars.append(plt.bar(ind, z, width, bottom=xy))\n",
    "bars.append(plt.bar(ind, orientation, width, bottom=xy+z))\n",
    "bars.append(plt.bar(ind, pixel, width, bottom=xy+z+orientation))\n",
    "\n",
    "plt.ylabel(\"Mean Predicted Error Radius (meters)\")\n",
    "plt.xlabel(\"Pitch Angle\")\n",
    "plt.xticks(ind, xticks)\n",
    "plt.legend(bars, legend)\n",
    "plt.ylim(0, 0.7)\n",
    "\n",
    "# sidebyside_bar(np.array([xy, z, orientation, pixel]), xticks, legend, \"Mean Predicted Error Radius (cm)\", \"Pitch Angle\", error_bars=2*np.array([xy_stddev, z_stddev, orientation_stddev, pixel_stddev]), label_decimals=1, label_multiplier=100, figsize=(8,4), label_height_offset_mult=0.25, legend_loc='upper left')\n",
    "# plt.ylim(0, 0.7)\n",
    "plt.tight_layout()\n",
    "\n",
    "if save:\n",
    "    plt.savefig('figs/mean_error_pitch_variation_stacked.pdf',bbox_inches='tight')\n",
    "    plt.savefig('figs/mean_error_pitch_variation_stacked.pgf',bbox_inches='tight')\n",
    "else:\n",
    "    plt.show()"
   ]
  },
  {
   "cell_type": "code",
   "execution_count": 21,
   "metadata": {},
   "outputs": [
    {
     "data": {
      "image/png": "[encoded data removed]",
      "text/plain": [
       "<Figure size 576x432 with 1 Axes>"
      ]
     },
     "metadata": {},
     "output_type": "display_data"
    }
   ],
   "source": [
    "# plot absolute errors -- this is the quite informative!\n",
    "angles = [90, 70, 50, 40, 30]\n",
    "xy = np.array([vary_pitch_stats_summary[angle + 1][\"XY Error Radius\"]['median'] for angle in angles])\n",
    "z =  np.array([vary_pitch_stats_summary[angle + 1][\"Z Error Radius\"][\"median\"] for angle in angles])\n",
    "orientation = np.array([vary_pitch_stats_summary[angle + 1][\"Orientation Error Radius\"][\"median\"] for angle in angles])\n",
    "pixel = np.array([vary_pitch_stats_summary[angle + 1][\"Pixel and Algorithmic Error Radius\"][\"median\"] for angle in angles])\n",
    "legend = [\"XY Error (cm)\", \"Z Error (cm)\", \"Orientation Error (cm)\", \"Pixel Error (cm)\"]\n",
    "\n",
    "xticks = [u\"${}^{{\\circ}}$\".format(angle) for angle in angles]\n",
    "sidebyside_bar(np.array([xy, z, orientation, pixel]), xticks, legend, \"Median Predicted Error Radius (cm)\", \"Pitch Angle\", label_decimals=1, label_multiplier=100, label_height_offset_mult=0.1)\n",
    "\n",
    "plt.tight_layout()\n",
    "\n",
    "if save:\n",
    "    plt.savefig('figs/median_error_pitch_variation.pdf',bbox_inches='tight')\n",
    "    plt.savefig('figs/median_error_pitch_variation.pgf',bbox_inches='tight')\n",
    "else:\n",
    "    plt.show()"
   ]
  },
  {
   "cell_type": "code",
   "execution_count": 22,
   "metadata": {},
   "outputs": [
    {
     "data": {
      "image/png": "[encoded data removed]",
      "text/plain": [
       "<Figure size 864x432 with 1 Axes>"
      ]
     },
     "metadata": {},
     "output_type": "display_data"
    }
   ],
   "source": [
    "# plot absolute errors -- this is the most informative!\n",
    "angles = [90, 70, 50, 40, 30]\n",
    "xy = np.array([vary_pitch_stats_summary[angle + 1][\"XY Error Radius\"]['99th percentile'] for angle in angles])\n",
    "z =  np.array([vary_pitch_stats_summary[angle + 1][\"Z Error Radius\"][\"99th percentile\"] for angle in angles])\n",
    "orientation = np.array([vary_pitch_stats_summary[angle + 1][\"Orientation Error Radius\"][\"99th percentile\"] for angle in angles])\n",
    "pixel = np.array([vary_pitch_stats_summary[angle + 1][\"Pixel and Algorithmic Error Radius\"][\"99th percentile\"] for angle in angles])\n",
    "legend = [\"XY Error\", \"Z Error\", \"Orientation Error\", \"Pixel Error\"]\n",
    "\n",
    "xticks = [u\"${}^{{\\circ}}$\".format(angle) for angle in angles]\n",
    "sidebyside_bar(np.array([xy, z, orientation, pixel]), angles, legend, u\"99$^{{th}}$ Percentile Predicted Error Radius (cm)\", \"Pitch Angle\", label_decimals=1, label_multiplier=100, figsize=(12,6), label_height_offset_mult=0.25)\n",
    "\n",
    "plt.tight_layout()\n",
    "\n",
    "if save:\n",
    "    plt.savefig('figs/99th_percentile_error_pitch_variation.pdf',bbox_inches='tight')\n",
    "    plt.savefig('figs/99th_percentile_error_pitch_variation.pgf',bbox_inches='tight')\n",
    "else:\n",
    "    plt.show()"
   ]
  },
  {
   "cell_type": "code",
   "execution_count": 23,
   "metadata": {
    "scrolled": true
   },
   "outputs": [
    {
     "data": {
      "image/png": "[encoded data removed]",
      "text/plain": [
       "<Figure size 864x432 with 1 Axes>"
      ]
     },
     "metadata": {},
     "output_type": "display_data"
    }
   ],
   "source": [
    "# collect normalized summaries\n",
    "# means first\n",
    "\n",
    "angles = [90, 70, 50, 40, 30]\n",
    "xy_means = np.array([vary_pitch_stats_summary[angle + 1][\"normalized_summary\"][\"means\"][\"xy error\"] for angle in angles])\n",
    "z_means = np.array([vary_pitch_stats_summary[angle + 1][\"normalized_summary\"][\"means\"][\"z error\"] for angle in angles])\n",
    "orientation_means =  np.array([vary_pitch_stats_summary[angle + 1][\"normalized_summary\"][\"means\"][\"orientation error\"] for angle in angles])\n",
    "pixel_means = np.array([vary_pitch_stats_summary[angle + 1][\"normalized_summary\"][\"means\"][\"pixel and algorithm error\"] for angle in angles])\n",
    "legend = [\"XY Error\", \"Z Error\", \"Orientation Error\", \"Pixel Error\"]\n",
    "\n",
    "xticks = [u\"${}^{{\\circ}}$\".format(angle) for angle in angles]\n",
    "sidebyside_bar(np.array([xy_means, z_means, orientation_means, pixel_means]), xticks, legend, \"Proportion of Predicted Error Radius\", \"Pitch Angle\", label_suffix=\"%\", label_decimals=0, label_multiplier=100, figsize=(12,6))\n",
    "\n",
    "plt.tight_layout()\n",
    "if save:\n",
    "    plt.savefig('figs/normalized_mean_error_pitch_variation.pdf',bbox_inches='tight')\n",
    "    plt.savefig('figs/normalized_mean_error_pitch_variation.pgf',bbox_inches='tight')\n",
    "else:\n",
    "    plt.show()"
   ]
  },
  {
   "cell_type": "code",
   "execution_count": 24,
   "metadata": {},
   "outputs": [
    {
     "data": {
      "image/png": "[encoded data removed]",
      "text/plain": [
       "<Figure size 864x432 with 1 Axes>"
      ]
     },
     "metadata": {},
     "output_type": "display_data"
    }
   ],
   "source": [
    "# less useful!\n",
    "# angles = [90, 80, 70, 60, 50, 40, 30]\n",
    "xy_medians = np.array([vary_pitch_stats_summary[angle + 1][\"normalized_summary\"][\"medians\"][\"xy error\"] for angle in angles])\n",
    "z_medians = np.array([vary_pitch_stats_summary[angle + 1][\"normalized_summary\"][\"medians\"][\"z error\"] for angle in angles])\n",
    "orientation_medians =  np.array([vary_pitch_stats_summary[angle + 1][\"normalized_summary\"][\"medians\"][\"orientation error\"] for angle in angles])\n",
    "pixel_medians = np.array([vary_pitch_stats_summary[angle + 1][\"normalized_summary\"][\"medians\"][\"pixel and algorithm error\"] for angle in angles])\n",
    "legend = [\"XY Error\", \"Z Error\", \"Orientation Error\", \"Pixel Error\"]\n",
    "\n",
    "sidebyside_bar(np.array([xy_medians, z_medians, orientation_medians, pixel_medians]), xticks, legend, \"Median Proportion of Predicted Error Radius\", \"Pitch Angle\", label_suffix=\"%\", label_multiplier=100, label_decimals=0, figsize=(12,6))\n",
    "\n",
    "plt.tight_layout()\n",
    "if save:\n",
    "    plt.savefig('figs/normalized_median_error_pitch_variation.pdf',bbox_inches='tight')\n",
    "    plt.savefig('figs/normalized_median_error_pitch_variation.pgf',bbox_inches='tight')\n",
    "else:\n",
    "    plt.show()"
   ]
  },
  {
   "cell_type": "code",
   "execution_count": 25,
   "metadata": {},
   "outputs": [
    {
     "data": {
      "image/png": "[encoded data removed]",
      "text/plain": [
       "<Figure size 864x432 with 1 Axes>"
      ]
     },
     "metadata": {},
     "output_type": "display_data"
    }
   ],
   "source": [
    "# normalized 99th percentile important\n",
    "xy_99 = np.array([vary_pitch_stats_summary[angle + 1][\"normalized_summary\"][\"99th percentile\"][\"xy error\"] for angle in angles])\n",
    "z_99 = np.array([vary_pitch_stats_summary[angle + 1][\"normalized_summary\"][\"99th percentile\"][\"z error\"] for angle in angles])\n",
    "orientation_99 =  np.array([vary_pitch_stats_summary[angle + 1][\"normalized_summary\"][\"99th percentile\"][\"orientation error\"] for angle in angles])\n",
    "pixel_99 = np.array([vary_pitch_stats_summary[angle + 1][\"normalized_summary\"][\"99th percentile\"][\"pixel and algorithm error\"] for angle in angles])\n",
    "legend = [\"XY Error\", \"Z Error\", \"Orientation Error\", \"Pixel Error\"]\n",
    "\n",
    "sidebyside_bar(np.array([xy_99, z_99, orientation_99, pixel_99]), xticks, legend, u\"99$^{{th}}$ Percentile Error Proportions\", \"Pitch Angle\", label_suffix=\"%\", label_multiplier=100, label_decimals=0, figsize=(12,6))\n",
    "\n",
    "plt.tight_layout()\n",
    "if save:\n",
    "    plt.savefig('figs/normalized_99th_error_pitch_variation.pdf',bbox_inches='tight')\n",
    "    plt.savefig('figs/normalized_99th_error_pitch_variation.pgf',bbox_inches='tight')\n",
    "else:\n",
    "    plt.show()"
   ]
  },
  {
   "cell_type": "code",
   "execution_count": 26,
   "metadata": {},
   "outputs": [
    {
     "name": "stdout",
     "output_type": "stream",
     "text": [
      "[0.00366639 0.01208256 0.03887185 0.09433868 0.62385214]\n"
     ]
    },
    {
     "data": {
      "text/plain": [
       "'\\n\\nsidebyside_bar(np.array([mean_error, median_error, percentile_99, three_stddev]), angles, legend, \"Total Radius\", \"Pitch Angle\", label_decimals=1, width=0.4, label_multiplier=100)\\n# error bars are nothing to write home about except that divergence at the top end - discuss in TABLE\\n\\n'"
      ]
     },
     "execution_count": 26,
     "metadata": {},
     "output_type": "execute_result"
    }
   ],
   "source": [
    "# show absolute errors a totals... also less useful\n",
    "# angles = [90, 80, 70, 60, 50, 40, 30]\n",
    "\n",
    "\n",
    "mean_error = np.array([vary_pitch_stats_summary[angle + 1][\"total_error\"][\"mean\"] for angle in angles])\n",
    "median_error = np.array([vary_pitch_stats_summary[angle + 1][\"total_error\"][\"media\"] for angle in angles])\n",
    "stddev_error = np.array([vary_pitch_stats_summary[angle + 1][\"total_error\"][\"stddev\"] for angle in angles])\n",
    "percentile_99 = np.array([vary_pitch_stats_summary[angle + 1][\"total_error\"]['99th percentile'] for angle in angles])\n",
    "three_stddev = mean_error + 3*stddev_error\n",
    "legend=[\"Mean Error Radius (cm)\", \"Median Error Radius (cm)\", \"99th Percentile\", \"Mean + 3 stddev\"]\n",
    "print(stddev_error)\n",
    "\"\"\"\n",
    "\n",
    "sidebyside_bar(np.array([mean_error, median_error, percentile_99, three_stddev]), angles, legend, \"Total Radius\", \"Pitch Angle\", label_decimals=1, width=0.4, label_multiplier=100)\n",
    "# error bars are nothing to write home about except that divergence at the top end - discuss in TABLE\n",
    "\n",
    "\"\"\""
   ]
  },
  {
   "cell_type": "markdown",
   "metadata": {},
   "source": [
    "### 4. Show impact of algorithmic error"
   ]
  },
  {
   "cell_type": "code",
   "execution_count": 27,
   "metadata": {
    "scrolled": true
   },
   "outputs": [
    {
     "name": "stdout",
     "output_type": "stream",
     "text": [
      "Number of outliers removed: 161/45000\n",
      "Errors within predicted error radius: 43468/44839 ... 0.969423938982\n",
      "Errors not within error radius: 1371/44839 ... 0.0305760610183\n",
      "Mean radius: 0.203220659686\n",
      "Median radius: 0.117975338638\n",
      "99th Percentile: 1.75663598771\n",
      "Stddev: 0.310161972684\n",
      "Number of outliers removed: 103/45000\n",
      "Errors within predicted error radius: 44401/44897 ... 0.988952491258\n",
      "Errors not within error radius: 496/44897 ... 0.0110475087422\n",
      "Mean radius: 0.238244316612\n",
      "Median radius: 0.141759743295\n",
      "99th Percentile: 1.66571315026\n",
      "Stddev: 0.304479200279\n",
      "Number of outliers removed: 23/45000\n",
      "Errors within predicted error radius: 44824/44977 ... 0.996598261334\n",
      "Errors not within error radius: 153/44977 ... 0.00340173866643\n",
      "Mean radius: 0.214598053546\n",
      "Median radius: 0.156384024269\n",
      "99th Percentile: 1.25328718335\n",
      "Stddev: 0.235039230758\n",
      "Number of outliers removed: 152/45000\n",
      "Errors within predicted error radius: 44676/44848 ... 0.996164823403\n",
      "Errors not within error radius: 172/44848 ... 0.0038351765965\n",
      "Mean radius: 0.270931463676\n",
      "Median radius: 0.192452446384\n",
      "99th Percentile: 1.46649105432\n",
      "Stddev: 0.279998974213\n",
      "Number of outliers removed: 20/45000\n",
      "Errors within predicted error radius: 44765/44980 ... 0.995220097821\n",
      "Errors not within error radius: 215/44980 ... 0.00477990217875\n",
      "Mean radius: 0.296555421436\n",
      "Median radius: 0.211211000178\n",
      "99th Percentile: 1.54421452706\n",
      "Stddev: 0.286099582179\n",
      "Number of outliers removed: 212/45000\n",
      "Errors within predicted error radius: 44539/44788 ... 0.994440475127\n",
      "Errors not within error radius: 249/44788 ... 0.00555952487273\n",
      "Mean radius: 0.357178211599\n",
      "Median radius: 0.24080085112\n",
      "99th Percentile: 2.0334953125\n",
      "Stddev: 0.35340718691\n",
      "Number of outliers removed: 773/45000\n",
      "Errors within predicted error radius: 43912/44227 ... 0.992877653922\n",
      "Errors not within error radius: 315/44227 ... 0.00712234607819\n",
      "Mean radius: 0.428597626105\n",
      "Median radius: 0.273114891402\n",
      "99th Percentile: 2.93833060222\n",
      "Stddev: 0.482793098798\n",
      "Number of outliers removed: 565/45000\n",
      "Errors within predicted error radius: 44001/44435 ... 0.990232924496\n",
      "Errors not within error radius: 434/44435 ... 0.00976707550354\n",
      "Mean radius: 0.452617684846\n",
      "Median radius: 0.296668893146\n",
      "99th Percentile: 2.73105603929\n",
      "Stddev: 0.473812383912\n",
      "Number of outliers removed: 172/45000\n",
      "Errors within predicted error radius: 44432/44828 ... 0.991166235389\n",
      "Errors not within error radius: 396/44828 ... 0.0088337646114\n",
      "Mean radius: 0.370067213663\n",
      "Median radius: 0.278872222736\n",
      "99th Percentile: 1.68468125335\n",
      "Stddev: 0.305482815084\n",
      "Number of outliers removed: 606/45000\n",
      "Errors within predicted error radius: 43849/44394 ... 0.987723566248\n",
      "Errors not within error radius: 545/44394 ... 0.0122764337523\n",
      "Mean radius: 0.44032040538\n",
      "Median radius: 0.297452722016\n",
      "99th Percentile: 2.72788836073\n",
      "Stddev: 0.450228986406\n"
     ]
    }
   ],
   "source": [
    "outlier_cutoff = 4.0\n",
    "# want to see how mean/median radius changes, as well as bound accuracy\n",
    "# as algorithmic error increases\n",
    "alg_means = []\n",
    "alg_medians = []\n",
    "alg_99th = []\n",
    "alg_outliers = []\n",
    "alg_within_radius = []\n",
    "alg_total = []\n",
    "alg_stddevs = []\n",
    "for alg_error in np.arange(0.0, 25.0, 2.5):\n",
    "    with_alg = evaluate_error_model(camera_pos_samples=30, camera_instances_per=30, samples_per_camera=50, alg_error=alg_error, camera_resolution=(1000,1000))\n",
    "    with_alg_errors = np.array([res['vehicle_center_prediction_error'] for res in with_alg]).ravel()\n",
    "    with_alg_radii = np.array([res['predicted_error_radius'] for res in with_alg]).ravel()\n",
    "    outliers = with_alg_radii > outlier_cutoff # remove all the ones with too high of a predicted error radius\n",
    "    n_outliers = np.count_nonzero(outliers)\n",
    "    alg_outliers.append(n_outliers)\n",
    "    print(\"Number of outliers removed: {0}/{1}\".format(n_outliers, outliers.shape[0]))\n",
    "    \n",
    "    # remove outliers\n",
    "    errors = with_alg_errors[~outliers]\n",
    "    radii = with_alg_radii[~outliers]\n",
    "    \n",
    "    # count correctly within radius\n",
    "    errs_within_radii = errors < radii\n",
    "    n_within, n_total = np.count_nonzero(errs_within_radii), errors.shape[0]\n",
    "    alg_within_radius.append(n_within)\n",
    "    alg_total.append(n_total)\n",
    "    print(\"Errors within predicted error radius: {0}/{1} ... {2}\".format(n_within, n_total, float(n_within)/n_total))\n",
    "    print(\"Errors not within error radius: {0}/{1} ... {2}\".format(n_total-n_within, n_total, float(n_total-n_within)/n_total))\n",
    "    \n",
    "    mean, median, percentile, stddev = np.mean(radii), np.median(radii), np.percentile(radii, 99.0), np.var(radii)**0.5\n",
    "    print(\"Mean radius: {0}\".format(mean))\n",
    "    print(\"Median radius: {0}\".format(median))\n",
    "    print(\"99th Percentile: {0}\".format(percentile))\n",
    "    print(\"Stddev: {0}\".format(stddev))\n",
    "    alg_means.append(mean)\n",
    "    alg_medians.append(median)\n",
    "    alg_99th.append(percentile)\n",
    "    alg_stddevs.append(stddev)"
   ]
  },
  {
   "cell_type": "code",
   "execution_count": 28,
   "metadata": {},
   "outputs": [
    {
     "data": {
      "text/plain": [
       "<Figure size 432x288 with 0 Axes>"
      ]
     },
     "metadata": {},
     "output_type": "display_data"
    },
    {
     "data": {
      "image/png": "[encoded data removed]",
      "text/plain": [
       "<Figure size 432x216 with 1 Axes>"
      ]
     },
     "metadata": {},
     "output_type": "display_data"
    }
   ],
   "source": [
    "# Here, plot mean radius versus algo error\n",
    "# as well as bound accuracy versus algorithm error \n",
    "# plot lines on the same plot\n",
    "\n",
    "plt.clf()\n",
    "plt.figure(figsize=(6,3))\n",
    "xaxis = np.arange(0.0, 25.0, 2.5)\n",
    "xticks = [\"{0:.2f}\".format(p) for p in np.arange(0.0, 25.0, 2.5)]\n",
    "# plot lines and errors for mean\n",
    "plt.errorbar(xaxis, alg_means, yerr=np.array(alg_stddevs), fmt='-o')\n",
    "\n",
    "# calculate fraction within error bound\n",
    "within = np.array(alg_within_radius)\n",
    "total = np.array(alg_total)\n",
    "frac = within/total.astype(np.float64)\n",
    "plt.plot(xaxis, frac, '-x')\n",
    "    \n",
    "leg = plt.legend([\"Error Radius Accuracy (\\%)\",\"Mean Sampled Error Radius (meters)\"])\n",
    "plt.xlabel(\"Algorithmic Error -- 95\\% radius in Pixels\")\n",
    "plt.xticks(xaxis)\n",
    "\n",
    "plt.tight_layout()\n",
    "\n",
    "if save:\n",
    "    plt.savefig('figs/algorithm_influence.pdf',bbox_inches='tight')\n",
    "    plt.savefig('figs/algorithm_influence.pgf',bbox_inches='tight')\n",
    "else:\n",
    "    plt.show()\n"
   ]
  },
  {
   "cell_type": "code",
   "execution_count": null,
   "metadata": {},
   "outputs": [],
   "source": []
  },
  {
   "cell_type": "code",
   "execution_count": null,
   "metadata": {},
   "outputs": [],
   "source": []
  },
  {
   "cell_type": "markdown",
   "metadata": {},
   "source": [
    "### 5. Examine How ground area ie. fov/resolution affects accuracy"
   ]
  },
  {
   "cell_type": "code",
   "execution_count": 29,
   "metadata": {},
   "outputs": [],
   "source": [
    "# want to see how mean/median radius changes, as resolution increases\n",
    "\n",
    "resolutions = np.array([100, 300, 500, 1000, 2000, 5000, 10000])\n",
    "angles = np.array([90, 70, 50, 40, 32])\n",
    "data = []\n",
    "\n",
    "for angle in angles:\n",
    "    data.append([])\n",
    "    for res in resolutions:\n",
    "        data[-1].append(do_eval(np.array([0.0, 0.0, 6.0]), \n",
    "            float(angle),\n",
    "            0.0,\n",
    "            alg_error=4.0,\n",
    "            camera_res=(res,res),\n",
    "            n_samples_per_camera=50,\n",
    "            n_camera_instances=20,\n",
    "            orientation_percent=0.90,\n",
    "            pos_percent=0.9,\n",
    "            alg_percent=0.9)['predicted_error_radius']\n",
    "        )"
   ]
  },
  {
   "cell_type": "code",
   "execution_count": 31,
   "metadata": {},
   "outputs": [
    {
     "name": "stdout",
     "output_type": "stream",
     "text": [
      "Angle: 90, Mean radius across resolutions: [0.40177460185872393, 0.1926778473810737, 0.15082732565911391, 0.11982969940430738, 0.10334395675797434, 0.09439981833123356, 0.09150722778282919]\n",
      "Angle: 70, Mean radius across resolutions: [0.4497611415880847, 0.21706442551947638, 0.17203240415724758, 0.13600609021888507, 0.11577949900703191, 0.10499486258982055, 0.10289208638228586]\n",
      "Angle: 50, Mean radius across resolutions: [0.7095773255024781, 0.34461882352003975, 0.2668402250984806, 0.2092108889068314, 0.18339729664766008, 0.1647787415416175, 0.1590696629315459]\n",
      "Angle: 40, Mean radius across resolutions: [1.1709186478109315, 0.5655844387592738, 0.46897614643070257, 0.36587254876313013, 0.3232068727745737, 0.2933507239141256, 0.28467522837774867]\n"
     ]
    },
    {
     "data": {
      "text/plain": [
       "<Figure size 432x288 with 0 Axes>"
      ]
     },
     "metadata": {},
     "output_type": "display_data"
    },
    {
     "data": {
      "image/png": "[encoded data removed]",
      "text/plain": [
       "<Figure size 432x216 with 1 Axes>"
      ]
     },
     "metadata": {},
     "output_type": "display_data"
    },
    {
     "name": "stdout",
     "output_type": "stream",
     "text": [
      "Angle: 90, Median radius across resolutions: [0.40144255886460467, 0.19266396938752658, 0.15065074900998504, 0.11991993391199057, 0.10337162391327498, 0.09436386829975169, 0.09161296295984982]\n",
      "Angle: 70, Median radius across resolutions: [0.42594915410916184, 0.20642770732998975, 0.1621207829288395, 0.12770370542877701, 0.10763064887095737, 0.09794190201306295, 0.0954317198268596]\n",
      "Angle: 50, Median radius across resolutions: [0.5909098501470391, 0.28261748256311536, 0.2151234573081423, 0.17055399931531004, 0.14465252002487367, 0.12750577024744758, 0.12409140325931478]\n",
      "Angle: 40, Median radius across resolutions: [0.7354480525684932, 0.34984738040566565, 0.28447170886680007, 0.22222008653042796, 0.1775967699261763, 0.16781663871678426, 0.1556950896306658]\n"
     ]
    },
    {
     "data": {
      "text/plain": [
       "<Figure size 432x288 with 0 Axes>"
      ]
     },
     "metadata": {},
     "output_type": "display_data"
    },
    {
     "data": {
      "image/png": "[encoded data removed]",
      "text/plain": [
       "<Figure size 432x216 with 1 Axes>"
      ]
     },
     "metadata": {},
     "output_type": "display_data"
    },
    {
     "name": "stdout",
     "output_type": "stream",
     "text": [
      "Angle: 90, 95th percentile radius across resolutions: [0.41506437520312905, 0.20589654237106922, 0.16448173581790843, 0.132898691043233, 0.1164905033838948, 0.10877922680512636, 0.1050032836038342]\n",
      "Angle: 70, 95th percentile radius across resolutions: [0.6100701923896298, 0.29787355683824696, 0.23692308514597113, 0.18855519449372002, 0.16354254505392984, 0.1487467674904244, 0.14580466787410543]\n",
      "Angle: 50, 95th percentile radius across resolutions: [1.4333421415626444, 0.7011470434321763, 0.5660360157150507, 0.4319236287605292, 0.4046497983428779, 0.3487985351778608, 0.3546925296515331]\n",
      "Angle: 40, 95th percentile radius across resolutions: [3.4845603109459655, 1.7317536355538805, 1.4629825762147166, 1.2056611678024558, 1.0825475543365823, 0.9655798157340777, 0.9497125466871739]\n"
     ]
    },
    {
     "data": {
      "text/plain": [
       "<Figure size 432x288 with 0 Axes>"
      ]
     },
     "metadata": {},
     "output_type": "display_data"
    },
    {
     "data": {
      "image/png": "[encoded data removed]",
      "text/plain": [
       "<Figure size 432x216 with 1 Axes>"
      ]
     },
     "metadata": {},
     "output_type": "display_data"
    },
    {
     "data": {
      "text/plain": [
       "<Figure size 432x288 with 0 Axes>"
      ]
     },
     "metadata": {},
     "output_type": "display_data"
    }
   ],
   "source": [
    "plt.clf()\n",
    "plt.figure(figsize=(6,3))\n",
    "for j, angle in enumerate(angles[:-1]):\n",
    "    angle_data = data[j]\n",
    "    means, medians, stddevs, percentiles = [], [], [], []\n",
    "    for i in range(len(resolutions)):\n",
    "        res_data = angle_data[i]\n",
    "        radii = res_data.ravel() \n",
    "        mean, median, stddev, percentile = np.mean(radii), np.median(radii), np.var(radii)**0.5, np.percentile(radii, 99.0)\n",
    "        means.append(mean)\n",
    "        stddevs.append(stddev)\n",
    "    \n",
    "    # plot this curve\n",
    "    plt.errorbar(resolutions, means, yerr=stddev)\n",
    "    print(\"Angle: {0}, Mean radius across resolutions: {1}\".format(angle, means))\n",
    "    \n",
    "leg = plt.legend([u\"{}$^{{\\circ}}$ pitch\".format(a) for a in angles])\n",
    "plt.xlabel(\"Horizontal and Vertical Resolution\")\n",
    "plt.ylabel(\"Mean Sampled Error Radius (meters)\")\n",
    "# plt.show()\n",
    "plt.tight_layout()\n",
    "\n",
    "if save:\n",
    "    plt.savefig('figs/resolution_angle_effects_mean.pdf',bbox_inches='tight')\n",
    "    plt.savefig('figs/resolution_angle_effects_mean.pgf',bbox_inches='tight')\n",
    "else:\n",
    "    plt.show()\n",
    "plt.clf()\n",
    "\n",
    "plt.figure(figsize=(6,3))\n",
    "for j, angle in enumerate(angles[:-1]):\n",
    "    angle_data = data[j]\n",
    "    means, medians, stddevs, percentiles = [], [], [], []\n",
    "    for i in range(len(resolutions)):\n",
    "        res_data = angle_data[i]\n",
    "        radii = res_data.ravel() \n",
    "        mean, median, stddev, percentile = np.mean(radii), np.median(radii), np.var(radii)**0.5, np.percentile(radii, 99.0)\n",
    "        medians.append(median)\n",
    "        percentiles.append(percentile)\n",
    "    \n",
    "    # plot this curve\n",
    "    plt.plot(resolutions, medians)\n",
    "    print(\"Angle: {0}, Median radius across resolutions: {1}\".format(angle, medians))\n",
    "\n",
    "    \n",
    "leg = plt.legend([u\"{}$^{{\\circ}}$ pitch\".format(a) for a in angles])\n",
    "plt.ylabel(\"Median Sampled Error Radius (meters)\")\n",
    "plt.xlabel(\"Horizontal and Vertical Resolution\")\n",
    "plt.xlim(0.0, 0.8)\n",
    "\n",
    "plt.tight_layout()\n",
    "if save:\n",
    "    plt.savefig('figs/resolution_angle_effects_median.pdf',bbox_inches='tight')\n",
    "    plt.savefig('figs/resolution_angle_effects_median.pgf',bbox_inches='tight')\n",
    "else:\n",
    "    plt.show()\n",
    "plt.clf()\n",
    "\n",
    "plt.figure(figsize=(6,3))\n",
    "for j, angle in enumerate(angles[:-1]):\n",
    "    angle_data = data[j]\n",
    "    means, medians, stddevs, percentiles = [], [], [], []\n",
    "    for i in range(len(resolutions)):\n",
    "        res_data = angle_data[i]\n",
    "        radii = res_data.ravel() \n",
    "        mean, median, stddev, percentile = np.mean(radii), np.median(radii), np.var(radii)**0.5, np.percentile(radii, 95.0)\n",
    "        percentiles.append(percentile)\n",
    "    \n",
    "    # plot this curve\n",
    "    plt.plot(resolutions, percentiles)\n",
    "    print(\"Angle: {0}, 95th percentile radius across resolutions: {1}\".format(angle, percentiles))\n",
    "    \n",
    "leg = plt.legend([u\"{}$^{{\\circ}}$ pitch\".format(a) for a in angles])\n",
    "plt.xlabel(\"Horizontal and Vertical Resolution\")\n",
    "plt.ylabel(\"95th Percentile of Sampled Error Radius (meters)\")\n",
    "plt.xlim(0.0, 5.0)\n",
    "\n",
    "\n",
    "\n",
    "plt.tight_layout()\n",
    "\n",
    "if save:\n",
    "    plt.savefig('figs/resolution_angle_effects_99th_percentile.pdf',bbox_inches='tight')\n",
    "    plt.savefig('figs/resolution_angle_effects_99th_percentile.pgf',bbox_inches='tight')\n",
    "else:\n",
    "    plt.show()\n",
    "plt.clf()\n"
   ]
  },
  {
   "cell_type": "code",
   "execution_count": null,
   "metadata": {},
   "outputs": [],
   "source": [
    "resolutions"
   ]
  },
  {
   "cell_type": "code",
   "execution_count": null,
   "metadata": {},
   "outputs": [],
   "source": []
  },
  {
   "cell_type": "code",
   "execution_count": null,
   "metadata": {},
   "outputs": [],
   "source": []
  },
  {
   "cell_type": "markdown",
   "metadata": {},
   "source": [
    "## Examine distribution of errors about a single point across various camera positions"
   ]
  },
  {
   "cell_type": "code",
   "execution_count": 115,
   "metadata": {},
   "outputs": [],
   "source": [
    "def do_world_points_eval(start_position, \n",
    "            start_pitch_deg,\n",
    "            start_yaw_deg,\n",
    "            grid_size=(5,5),\n",
    "            stddev_pos=0.03/2.0,\n",
    "            stddev_orient_deg=0.5/2,\n",
    "            alg_error=4.0,\n",
    "            camera_res=(400,400),\n",
    "            camera_fov=(60.0, 60.0),\n",
    "            n_camera_instances=3000,\n",
    "            verbose=False):\n",
    "    \n",
    "    start_camera = CameraModel.Camera(position=start_position, orientation_pitch_deg=start_pitch_deg, \n",
    "                                         orientation_yaw_deg=start_yaw_deg, verbose=False)\n",
    "    start_camera.set_resolution(*camera_res)\n",
    "    start_camera.set_fov(*camera_fov)\n",
    "\n",
    "#     results = {\n",
    "#         'world_points':[], # placed using grid across start camera\n",
    "#         'world_pt_error_radius': [],\n",
    "#         'calculated_centers':[], # project world -> biased camera -> round to pixel -> world\n",
    "#         'vehicle_center_prediction_error':[], # difference between above two\n",
    "#         'predicted_error_radius':[],\n",
    "#         'camera_biases':[], # enter tuples of (xyz, rp) bias\n",
    "#         'xy_errors': [],\n",
    "#         'z_errors': [],\n",
    "#         'orientation_errors': [],\n",
    "#         'pixel_alg_errors': []\n",
    "#     }\n",
    "    \n",
    "    x_step = camera_res[0]/float(grid_size[0])\n",
    "    y_step = camera_res[1]/float(grid_size[1])\n",
    "    xs = np.arange(0, camera_res[0]+x_step, x_step)\n",
    "    ys = np.arange(0, camera_res[1]+y_step, y_step)\n",
    "    xs, ys = np.meshgrid(xs, ys)\n",
    "    \n",
    "    world_points = []\n",
    "    world_pt_error_radius = []\n",
    "    calculated_centers = []\n",
    "    predicted_error_radius = []\n",
    "    predicted_centers_pixel_major_minor_axis = []\n",
    "    predicted_centers_direction_vectors = []\n",
    "    \n",
    "    for (x_pix, y_pix) in zip(xs.ravel(), ys.ravel()):\n",
    "        world_pt = start_camera.pixel_to_plane(x_pix, y_pix)\n",
    "        r, _, _, _ ,_ = get_predicted_error_radius(start_position[2],\n",
    "                                        np.linalg.norm(world_pt[:2] - start_position[:2]),\n",
    "                                        start_camera.plane_area_of_pixel(x_pix, y_pix),\n",
    "                                        sigma_pos=stddev_pos,\n",
    "                                        sigma_orient_deg=stddev_orient_deg,\n",
    "                                        alg_error=alg_error\n",
    "                                      )\n",
    "        world_points.append(world_pt)\n",
    "        world_pt_error_radius.append(r)\n",
    "        calculated_centers.append([]) # to fill with calculated centers\n",
    "        predicted_error_radius.append([])  # to fill with associated radii\n",
    "        predicted_centers_pixel_major_minor_axis.append([])\n",
    "        predicted_centers_direction_vectors.append([])\n",
    "        \n",
    "        \n",
    "    # spawn a large number of pairs of cameras - a real random one, and one with \n",
    "    # positional/orientational errors\n",
    "    # then project each world point into biased camera, and reproject pixel through real camera\n",
    "    # to obtain a world position estimate\n",
    "    \n",
    "    height_min, height_max = 6.0, 9.0\n",
    "    x_min, x_max = start_position[0] - 1.5, start_position[0] + 1.5\n",
    "    y_min, y_max = start_position[1] - 1.5, start_position[0] + 1.5\n",
    "    pitch_min, pitch_max = 31.0, 90.0\n",
    "    yaw_min, yaw_max = start_yaw_deg - 60.0, start_yaw_deg + 60.0\n",
    "    \n",
    "    for k in range(n_camera_instances):\n",
    "        if k%100 == 0:\n",
    "            print(\"Sampled {0}/{1}\".format(k, n_camera_instances))\n",
    "        # sample true camera position\n",
    "        x, y, z = np.random.uniform(x_min, x_max), np.random.uniform(y_min, y_max), np.random.uniform(height_min, height_max)\n",
    "        real_position = np.array([x,y,z])\n",
    "        p, y = np.random.uniform(pitch_min, pitch_max), np.random.uniform(yaw_min, yaw_max)\n",
    "        \n",
    "        real_camera = CameraModel.Camera(position=real_position,\n",
    "                                         orientation_pitch_deg=p,\n",
    "                                         orientation_yaw_deg=y)\n",
    "        real_camera.set_resolution(*camera_res)\n",
    "        real_camera.set_fov(*camera_fov)\n",
    "        \n",
    "        # sample some biases\n",
    "        offset_xyz = np.random.normal(loc=0.0, scale=stddev_pos, size=3)\n",
    "        offset_rp = np.random.normal(loc=0.0, scale=stddev_orient_deg, size=2)\n",
    "        \n",
    "        # sample some random world camera positions/orientations that hopefully can see the points\n",
    "        \n",
    "        biased_camera = CameraModel.Camera(position=real_position+offset_xyz, \n",
    "                                           orientation_pitch_deg=p+offset_rp[0], \n",
    "                                           orientation_yaw_deg=y+offset_rp[1],\n",
    "                                           verbose=False\n",
    "                                          )\n",
    "        biased_camera.set_resolution(*camera_res)\n",
    "        biased_camera.set_fov(*camera_fov)\n",
    "        \n",
    "        for i, pt in enumerate(world_points):\n",
    "#             print(pt)\n",
    "            # project world coordinate through biased camera\n",
    "            pixel = biased_camera.world_to_pixel(*pt)\n",
    "        \n",
    "            # round to nearest pixel\n",
    "            pixel = np.round(pixel)\n",
    "            \n",
    "            # incorporate algorithmic error\n",
    "            pixel_translation_distance = np.random.normal(loc=0.0, scale=alg_error/2.0)\n",
    "            pixel_translation_direction = np.random.uniform(0.0, 2*np.pi)\n",
    "            dx = pixel_translation_distance * np.cos(pixel_translation_direction)\n",
    "            dy = pixel_translation_distance * np.sin(pixel_translation_direction)\n",
    "            pixel += np.array([dx, dy])\n",
    "            \n",
    "            \n",
    "            \n",
    "\n",
    "            \n",
    "#             print(\"True Pixel: ({0}, {1}), using pixel: {2}\".format(x, y, pixel))\n",
    "            pixel_area = real_camera.plane_area_of_pixel(*pixel) # get area in true camera (will be wrong pixel)\n",
    "            # project back onto ground to get estimate as if it were the true camera\n",
    "            world_estimate = real_camera.pixel_to_plane(*pixel)\n",
    "            calculated_centers.append(world_estimate)\n",
    "            \n",
    "            if pt is None or world_estimate is None:\n",
    "                continue\n",
    "            # error\n",
    "#             error = np.linalg.norm(world_estimate - pt)\n",
    "            \n",
    "            # predicted error radius\n",
    "            radius, xy_err, z_err, orientation_err, pixel_err  = get_predicted_error_radius(real_position[2],\n",
    "                               ground_distance=np.linalg.norm(world_estimate[:2]), \n",
    "                               pixel_area=pixel_area,\n",
    "                               sigma_pos=stddev_pos,\n",
    "                               sigma_orient_deg=stddev_orient_deg,\n",
    "                               alg_error=alg_error,\n",
    "                               verbose=verbose\n",
    "                              )\n",
    "            \n",
    "            calculated_centers[i].append(world_estimate)\n",
    "            predicted_error_radius[i].append(radius)\n",
    "            \n",
    "            \n",
    "            # compute factors for creating ellipses\n",
    "            c = real_camera.pixel_to_plane(*pixel)\n",
    "#             dx = real_camera.pixel_to_plane(pixel[0] + 1, pixel[1]) \n",
    "            dy = real_camera.pixel_to_plane(pixel[0], pixel[1]+1) - c\n",
    "\n",
    "            pixel_direction, major_axis_length = c-real_position, np.linalg.norm(dy)\n",
    "            \n",
    "            predicted_centers_pixel_major_minor_axis[i].append((major_axis_length, pixel_area/major_axis_length))\n",
    "            predicted_centers_direction_vectors[i].append(pixel_direction)\n",
    "            \n",
    "            if verbose and radius < error:\n",
    "                print(\"Offset XYZ: {0}, RP: {1}\".format(offset_xyz, offset_rp))\n",
    "                print(\"True pixel & ground area: {0}, {1}\".format((x,y), real_camera.plane_area_of_pixel(*np.round([x,y]))))\n",
    "                print(\"True world pos: {0}\".format(pt))\n",
    "                print(\"Biased pixel: {0}\".format(pixel))\n",
    "                print(\"Pixel Ground area in true camera: {0}\".format(pixel_area))\n",
    "                print(\"World pos estimate: {0}\".format(world_estimate))\n",
    "                print(\"Error: {0}\".format(error))\n",
    "                print(\"Predicted Error Radius: {0}\".format(radius))\n",
    "                print(\"-----------------\")\n",
    " \n",
    "\n",
    "    return  (world_points, world_pt_error_radius, calculated_centers,  predicted_error_radius, \n",
    "                        predicted_centers_pixel_major_minor_axis, predicted_centers_direction_vectors)\n",
    "\n",
    "\n"
   ]
  },
  {
   "cell_type": "code",
   "execution_count": 116,
   "metadata": {},
   "outputs": [
    {
     "name": "stdout",
     "output_type": "stream",
     "text": [
      "Sampled 0/10\n"
     ]
    }
   ],
   "source": [
    "(world_points, world_pt_error_radius, \n",
    " calculated_centers,  predicted_error_radius,\n",
    " major_minor_axes, directions) = do_world_points_eval(np.array([0,0,6.0]), \n",
    "            start_pitch_deg=45,\n",
    "            start_yaw_deg=90.0,\n",
    "            grid_size=(4,4),\n",
    "            stddev_pos=0.03/2.0,\n",
    "            stddev_orient_deg=0.5/2,\n",
    "            alg_error=4.0,\n",
    "            camera_res=(400,400),\n",
    "            camera_fov=(60.0, 60.0),\n",
    "            n_camera_instances=10,\n",
    "            verbose=False)"
   ]
  },
  {
   "cell_type": "code",
   "execution_count": 117,
   "metadata": {},
   "outputs": [
    {
     "name": "stdout",
     "output_type": "stream",
     "text": [
      "Mean actual error: 0.0628026871153, median: 0.0549702852177, stddev: 0.0427486784153\n",
      "Mean actual error: 0.0470302140102, median: 0.0468673267117, stddev: 0.0292198669497\n",
      "Mean actual error: 0.0355705680259, median: 0.0337848876352, stddev: 0.0161155827798\n",
      "Mean actual error: 0.063328865169, median: 0.067884201851, stddev: 0.0298421536\n",
      "Mean actual error: 0.0448897414591, median: 0.0376107527753, stddev: 0.0256382549504\n",
      "Mean actual error: 0.0499393608611, median: 0.0511621813208, stddev: 0.0256555997293\n",
      "Mean actual error: 0.0532543941025, median: 0.0493076127046, stddev: 0.029968976821\n",
      "Mean actual error: 0.0750500089589, median: 0.0646789512115, stddev: 0.0463741892123\n",
      "Mean actual error: 0.0443268378247, median: 0.040042228689, stddev: 0.031265200781\n",
      "Mean actual error: 0.0663767841794, median: 0.0508266978015, stddev: 0.0488209361769\n",
      "Mean actual error: 0.0929677578838, median: 0.112676469676, stddev: 0.0525825740711\n",
      "Mean actual error: 0.0551426237928, median: 0.0421382039123, stddev: 0.0362218585613\n",
      "Mean actual error: 0.0919750617463, median: 0.0779726982422, stddev: 0.057812291878\n",
      "Mean actual error: 0.111768680472, median: 0.116296945739, stddev: 0.0459816324559\n",
      "Mean actual error: 0.108548362752, median: 0.114870404785, stddev: 0.0503602077263\n",
      "Mean actual error: 0.101468890377, median: 0.0898840298254, stddev: 0.0366050759934\n",
      "Mean actual error: 0.0900231966535, median: 0.0774033877547, stddev: 0.0473447201477\n",
      "Mean actual error: 0.124910219364, median: 0.0919182644174, stddev: 0.0744841386529\n",
      "Mean actual error: 0.178533964336, median: 0.175251864742, stddev: 0.0716380005393\n",
      "Mean actual error: 0.146476067237, median: 0.131089779224, stddev: 0.0940750571648\n",
      "Mean actual error: 0.308091965797, median: 0.248445279645, stddev: 0.148783354273\n",
      "Mean actual error: 0.240196256664, median: 0.223729543894, stddev: 0.128251104093\n",
      "Mean actual error: 0.304597773896, median: 0.269951140842, stddev: 0.129819495544\n",
      "Mean actual error: 0.389010950932, median: 0.351638477113, stddev: 0.17693210695\n",
      "Mean actual error: 0.458749418348, median: 0.381057003807, stddev: 0.285073722669\n"
     ]
    },
    {
     "data": {
      "image/png": "[encoded data removed]",
      "text/plain": [
       "<Figure size 720x720 with 1 Axes>"
      ]
     },
     "metadata": {},
     "output_type": "display_data"
    }
   ],
   "source": [
    "wps = np.array(world_points)\n",
    "fig = plt.figure(figsize=(10,10))\n",
    "ax = plt.subplot(111)\n",
    "ax.scatter(*wps[:, :2].T)\n",
    "all_errors = []\n",
    "for i, est in enumerate(calculated_centers):\n",
    "    if i >= wps.shape[0]:\n",
    "        break\n",
    "    est = np.array(est).reshape(-1, 3)\n",
    "    xys = est[:, :2].T\n",
    "    ax.scatter(*xys, color=\"blue\", s=1, marker='.', alpha=0.5)\n",
    "#     print(\"world point: {0}\".format(wps[i]))\n",
    "    errors = np.linalg.norm(wps[i] - est, axis=1)\n",
    "    all_errors.append(errors)\n",
    "    print(\"Mean actual error: {0}, median: {1}, stddev: {2}\".format(np.mean(errors), np.median(errors), np.var(errors)**0.5))\n",
    "    \n",
    "    # draw calculated error radii\n",
    "    for j, r in enumerate(predicted_error_radius[i]):\n",
    "        #r = world_pt_error_radius[i]\n",
    "        center = est[j]\n",
    "        el = Ellipse(center[:2], r, r, 0.0)\n",
    "        el.set_edgecolor('blue')\n",
    "        el.set_fill(False)\n",
    "        el.set_alpha(0.5)\n",
    "        ax.add_artist(el)"
   ]
  },
  {
   "cell_type": "code",
   "execution_count": 118,
   "metadata": {},
   "outputs": [
    {
     "name": "stdout",
     "output_type": "stream",
     "text": [
      "Sampled 0/100\n"
     ]
    },
    {
     "data": {
      "image/png": "[encoded data removed]",
      "text/plain": [
       "<Figure size 720x720 with 1 Axes>"
      ]
     },
     "metadata": {},
     "output_type": "display_data"
    }
   ],
   "source": [
    "(world_points, world_pt_error_radius, \n",
    " calculated_centers,  predicted_error_radius,\n",
    " major_minor_axes, directions) = do_world_points_eval(np.array([0,0,6.0]), \n",
    "            start_pitch_deg=45,\n",
    "            start_yaw_deg=90.0,\n",
    "            grid_size=(4,4),\n",
    "            stddev_pos=0.03/2.0,\n",
    "            stddev_orient_deg=0.5/2,\n",
    "            alg_error=4.0,\n",
    "            camera_res=(400,400),\n",
    "            camera_fov=(60.0, 60.0),\n",
    "            n_camera_instances=100,\n",
    "            verbose=False)\n",
    "\n",
    "wps = np.array(world_points)\n",
    "fig = plt.figure(figsize=(10,10))\n",
    "ax = plt.subplot(111)\n",
    "ax.scatter(*wps[:, :2].T)\n",
    "all_errors = []\n",
    "for i, est in enumerate(calculated_centers):\n",
    "    if i >= wps.shape[0]:\n",
    "        break\n",
    "    est = np.array(est).reshape(-1, 3)\n",
    "    xys = est[:, :2].T\n",
    "    ax.scatter(*xys, color=\"blue\", s=1, marker='.', alpha=0.5)\n",
    "#     print(\"world point: {0}\".format(wps[i]))\n",
    "    errors = np.linalg.norm(wps[i] - est, axis=1)\n",
    "    all_errors.append(errors)\n",
    "    r = world_pt_error_radius[i]\n",
    "    el = Ellipse(wps[i, :2], r, r, 0.0)\n",
    "    el.set_color('red')\n",
    "    el.set_alpha(0.2)\n",
    "    ax.add_artist(el)\n",
    "    "
   ]
  },
  {
   "cell_type": "code",
   "execution_count": 119,
   "metadata": {},
   "outputs": [
    {
     "name": "stdout",
     "output_type": "stream",
     "text": [
      "Sampled 0/200\n",
      "Sampled 100/200\n"
     ]
    },
    {
     "data": {
      "image/png": "[encoded data removed]",
      "text/plain": [
       "<Figure size 720x720 with 1 Axes>"
      ]
     },
     "metadata": {},
     "output_type": "display_data"
    }
   ],
   "source": [
    "(world_points, world_pt_error_radius, \n",
    " calculated_centers,  predicted_error_radius,\n",
    " major_minor_axes, directions) = do_world_points_eval(np.array([0,0,6.0]), \n",
    "            start_pitch_deg=45,\n",
    "            start_yaw_deg=90.0,\n",
    "            grid_size=(4,4),\n",
    "            stddev_pos=0.03/2.0,\n",
    "            stddev_orient_deg=0.5/2,\n",
    "            alg_error=4.0,\n",
    "            camera_res=(400,400),\n",
    "            camera_fov=(60.0, 60.0),\n",
    "            n_camera_instances=200,\n",
    "            verbose=False)\n",
    "wps = np.array(world_points)\n",
    "fig = plt.figure(figsize=(10,10))\n",
    "ax = plt.subplot(111)\n",
    "ax.scatter(*wps[:, :2].T)\n",
    "all_errors = []\n",
    "for i, est in enumerate(calculated_centers):\n",
    "    if i >= wps.shape[0]:\n",
    "        break\n",
    "    est = np.array(est).reshape(-1, 3)\n",
    "    xys = est[:, :2].T\n",
    "    ax.scatter(*xys, color=\"blue\", s=1, marker='.', alpha=0.5)\n",
    "#     print(\"world point: {0}\".format(wps[i]))\n",
    "    errors = np.linalg.norm(wps[i] - est, axis=0)\n",
    "    all_errors.append(errors)\n",
    "    r = world_pt_error_radius[i]\n",
    "    \n",
    "    error_area = 2*np.pi*r**2\n",
    "    maj_minors = np.array(major_minor_axes[i])\n",
    "    major_axis, minor_axis = np.mean(maj_minors, axis=0) # just use mean for now...\n",
    "    ratio = minor_axis/major_axis\n",
    "    # use major/minor axis ratio to divvy up the area\n",
    "    # area ellipse = pi*a*b, half major/minor axes\n",
    "    # ratio = minor/major\n",
    "    # => area = pi*a*a*ratio\n",
    "    # => major_length = sqrt(area/(ratio*pi))\n",
    "    major = np.sqrt(error_area/(ratio*np.pi))\n",
    "    minor = error_area/(np.pi*major)\n",
    "    \n",
    "    # get angle to orient at next\n",
    "    direction_vec = directions[i][0]\n",
    "    \n",
    "    angle = np.arctan2(direction_vec[1], direction_vec[0])\n",
    "    adjustment = np.sqrt(2.0)\n",
    "    el = Ellipse(wps[i, :2], major/adjustment, minor/adjustment, angle=np.rad2deg(angle))\n",
    "    el.set_color('red')\n",
    "    el.set_alpha(0.2)\n",
    "    ax.add_artist(el)\n",
    "    \n",
    "    # old radius based approach\n",
    "    el = Ellipse(wps[i, :2], r, r, 0.0)\n",
    "    el.set_color('purple')\n",
    "    el.set_alpha(0.2)\n",
    "    ax.add_artist(el)\n",
    "    "
   ]
  },
  {
   "cell_type": "code",
   "execution_count": 126,
   "metadata": {},
   "outputs": [
    {
     "name": "stdout",
     "output_type": "stream",
     "text": [
      "Sampled 0/5\n",
      "Mean actual error: 0.0450625132083, median: 0.0441204091251, stddev: 0.0196890610034\n",
      "Mean actual error: 0.0441603872162, median: 0.0480233389718, stddev: 0.0214476114743\n",
      "Mean actual error: 0.0350951106593, median: 0.0337080630411, stddev: 0.0134530612766\n",
      "Mean actual error: 0.0284460084997, median: 0.0309583120019, stddev: 0.0100425018184\n",
      "Mean actual error: 0.0501736142723, median: 0.0411010745079, stddev: 0.0301553497293\n",
      "Mean actual error: 0.0393553971811, median: 0.0380612995241, stddev: 0.0199926523614\n",
      "Mean actual error: 0.0532420571278, median: 0.0606262555676, stddev: 0.0162756011456\n",
      "Mean actual error: 0.0466613855765, median: 0.0339387411883, stddev: 0.0330957527638\n",
      "Mean actual error: 0.0349810402552, median: 0.0369839851808, stddev: 0.00931676200057\n",
      "Mean actual error: 0.0558902341047, median: 0.0504815371524, stddev: 0.0401392970936\n",
      "Mean actual error: 0.0833897929708, median: 0.0818326167542, stddev: 0.0356528655413\n",
      "Mean actual error: 0.050129589422, median: 0.0484753272617, stddev: 0.0342133480142\n",
      "Mean actual error: 0.0492187327543, median: 0.0335610291219, stddev: 0.0323331698436\n",
      "Mean actual error: 0.0711339900533, median: 0.0679261567645, stddev: 0.0174099589632\n",
      "Mean actual error: 0.0548423799959, median: 0.0504359070753, stddev: 0.016874789302\n",
      "Mean actual error: 0.0940385063137, median: 0.0844248196333, stddev: 0.0330661678317\n",
      "Mean actual error: 0.0936955711595, median: 0.110102248578, stddev: 0.0309779352489\n",
      "Mean actual error: 0.0717162762941, median: 0.0680731466018, stddev: 0.026680024547\n",
      "Mean actual error: 0.111369411221, median: 0.0757356989826, stddev: 0.0739271334104\n",
      "Mean actual error: 0.0813022948964, median: 0.0820045338446, stddev: 0.0307256820594\n",
      "Mean actual error: 0.215971592866, median: 0.255748633113, stddev: 0.139018994985\n",
      "Mean actual error: 0.23362021702, median: 0.15565201332, stddev: 0.161567296137\n",
      "Mean actual error: 0.20270412824, median: 0.174554153269, stddev: 0.0929267046429\n",
      "Mean actual error: 0.226398396089, median: 0.248367719799, stddev: 0.117749253597\n",
      "Mean actual error: 0.323810862728, median: 0.322110720341, stddev: 0.26177372435\n"
     ]
    },
    {
     "data": {
      "image/png": "[encoded data removed]",
      "text/plain": [
       "<Figure size 720x720 with 1 Axes>"
      ]
     },
     "metadata": {},
     "output_type": "display_data"
    }
   ],
   "source": [
    "(world_points, world_pt_error_radius, \n",
    " calculated_centers,  predicted_error_radius,\n",
    " major_minor_axes, directions) = do_world_points_eval(np.array([0,0,6.0]), \n",
    "            start_pitch_deg=45,\n",
    "            start_yaw_deg=90.0,\n",
    "            grid_size=(4,4),\n",
    "            stddev_pos=0.03/2.0,\n",
    "            stddev_orient_deg=0.5/2,\n",
    "            alg_error=4.0,\n",
    "            camera_res=(400,400),\n",
    "            camera_fov=(60.0, 60.0),\n",
    "            n_camera_instances=5,\n",
    "            verbose=False)\n",
    "\n",
    "wps = np.array(world_points)\n",
    "fig = plt.figure(figsize=(10,10))\n",
    "ax = plt.subplot(111)\n",
    "ax.scatter(*wps[:, :2].T)\n",
    "all_errors = []\n",
    "for i, est in enumerate(calculated_centers):\n",
    "    if i >= wps.shape[0]:\n",
    "        break\n",
    "    est = np.array(est).reshape(-1, 3)\n",
    "    xys = est[:, :2].T\n",
    "    ax.scatter(*xys, color=\"blue\", s=1, marker='.', alpha=0.5)\n",
    "#     print(\"world point: {0}\".format(wps[i]))\n",
    "    errors = np.linalg.norm(wps[i] - est, axis=1)\n",
    "    all_errors.append(errors)\n",
    "    print(\"Mean actual error: {0}, median: {1}, stddev: {2}\".format(np.mean(errors), np.median(errors), np.var(errors)**0.5))\n",
    "    \n",
    "    # draw calculated error radii\n",
    "    for j, r in enumerate(predicted_error_radius[i]):\n",
    "        #r = world_pt_error_radius[i]\n",
    "        center = est[j]\n",
    "        error_area = 2*np.pi*r**2\n",
    "        maj_minors = np.array(major_minor_axes[i][j])\n",
    "        major_axis, minor_axis = maj_minors \n",
    "        ratio = minor_axis/major_axis\n",
    "        # use major/minor axis ratio to divvy up the area\n",
    "        # area ellipse = pi*a*b, half major/minor axes\n",
    "        # ratio = minor/major\n",
    "        # => area = pi*a*a*ratio\n",
    "        # => major_length = sqrt(area/(ratio*pi))\n",
    "        major = np.sqrt(error_area/(ratio*np.pi))\n",
    "        minor = error_area/(np.pi*major)\n",
    "\n",
    "        # get angle to orient at next\n",
    "        direction_vec = directions[i][j]\n",
    "\n",
    "        angle = np.arctan2(direction_vec[1], direction_vec[0])\n",
    "        adjustment = np.sqrt(2.0)\n",
    "        el = Ellipse(center[:2], major/adjustment, minor/adjustment, angle=np.rad2deg(angle))\n",
    "        el.set_edgecolor('blue')\n",
    "        el.set_fill(False)\n",
    "        el.set_alpha(0.5)\n",
    "        ax.add_artist(el)\n",
    "\n"
   ]
  },
  {
   "cell_type": "code",
   "execution_count": 127,
   "metadata": {},
   "outputs": [
    {
     "name": "stdout",
     "output_type": "stream",
     "text": [
      "Sampled 0/1000\n",
      "Sampled 100/1000\n",
      "Sampled 200/1000\n",
      "Sampled 300/1000\n",
      "Sampled 400/1000\n",
      "Sampled 500/1000\n",
      "Sampled 600/1000\n",
      "Sampled 700/1000\n",
      "Sampled 800/1000\n",
      "Sampled 900/1000\n"
     ]
    }
   ],
   "source": [
    "(world_points, world_pt_error_radius, \n",
    " calculated_centers,  predicted_error_radius,\n",
    " major_minor_axes, directions) = do_world_points_eval(np.array([0,0,6.0]), \n",
    "            start_pitch_deg=45,\n",
    "            start_yaw_deg=90.0,\n",
    "            grid_size=(4,4),\n",
    "            stddev_pos=0.03/2.0,\n",
    "            stddev_orient_deg=0.5/2,\n",
    "            alg_error=4.0,\n",
    "            camera_res=(400,400),\n",
    "            camera_fov=(60.0, 60.0),\n",
    "            n_camera_instances=1000,\n",
    "            verbose=False)\n"
   ]
  },
  {
   "cell_type": "code",
   "execution_count": 138,
   "metadata": {},
   "outputs": [
    {
     "data": {
      "image/png": "[encoded data removed]",
      "text/plain": [
       "<Figure size 432x288 with 1 Axes>"
      ]
     },
     "metadata": {},
     "output_type": "display_data"
    }
   ],
   "source": [
    "\n",
    "index = 3\n",
    "pt = world_points[index]\n",
    "diffs = np.linalg.norm(pt - calculated_centers[index], axis=1)\n",
    "_ = plt.hist(diffs, bins=40)"
   ]
  },
  {
   "cell_type": "code",
   "execution_count": 139,
   "metadata": {},
   "outputs": [
    {
     "data": {
      "image/png": "[encoded data removed]",
      "text/plain": [
       "<Figure size 432x288 with 1 Axes>"
      ]
     },
     "metadata": {},
     "output_type": "display_data"
    }
   ],
   "source": [
    "\n",
    "index = 22\n",
    "pt = world_points[index]\n",
    "diffs = np.linalg.norm(pt - calculated_centers[index], axis=1)\n",
    "_ =plt.hist(diffs, bins=40)"
   ]
  },
  {
   "cell_type": "code",
   "execution_count": null,
   "metadata": {},
   "outputs": [],
   "source": []
  }
 ],
 "metadata": {
  "kernelspec": {
   "display_name": "diss_jupyter_python2",
   "language": "python",
   "name": "diss_jupyter_python2"
  },
  "language_info": {
   "codemirror_mode": {
    "name": "ipython",
    "version": 2
   },
   "file_extension": ".py",
   "mimetype": "text/x-python",
   "name": "python",
   "nbconvert_exporter": "python",
   "pygments_lexer": "ipython2",
   "version": "2.7.12"
  }
 },
 "nbformat": 4,
 "nbformat_minor": 2
}
