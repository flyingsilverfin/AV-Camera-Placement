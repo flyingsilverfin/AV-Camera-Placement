{
 "cells": [
  {
   "cell_type": "code",
   "execution_count": 2,
   "metadata": {},
   "outputs": [],
   "source": [
    "# ***Be sure to source setup.bash before launching jupyter server***\n",
    "%matplotlib inline\n",
    "\n",
    "import rospy\n",
    "import rosbag\n",
    "import numpy as np\n",
    "import json\n",
    "import os\n",
    "import glob\n",
    "import matplotlib.pyplot as plt\n",
    "import tf_conversions\n",
    "import scipy.stats as st\n",
    "\n",
    "from matplotlib.patches import Ellipse\n",
    "\n",
    "from custom_messages.msg import SimulationDataMsg\n",
    "\n",
    "import sys\n",
    "sys.path.append(\"/home/joshua/Documents/Uni/Year4/dissertation/catkin_ws/src/linefollow_gazebo/scripts/\")\n",
    "import CameraNetwork\n",
    "import Path \n",
    "import RoadModel\n",
    "import Tracer\n"
   ]
  },
  {
   "cell_type": "code",
   "execution_count": 3,
   "metadata": {},
   "outputs": [],
   "source": [
    "def point_to_numpy(point):\n",
    "    return np.array([point.x, point.y, point.z])\n",
    "def vec_to_numpy(vec):\n",
    "    return point_to_numpy(vec)\n",
    "def quat_to_numpy(quat):\n",
    "    return np.array([quat.x, quat.y, quat.z, quat.w])\n",
    "def quat_to_rpy(quat):\n",
    "    # note: need numpy quaternion\n",
    "    return tf_conversions.transformations.euler_from_quaternion(quat)"
   ]
  },
  {
   "cell_type": "code",
   "execution_count": 4,
   "metadata": {},
   "outputs": [],
   "source": [
    "experiment_defs_root = \"defs\"\n",
    "experiment_gen_root = \"gen\"\n",
    "specific_experiment_paths = [['calibration_circuit.json'], ['calibration_circuit_mirror.json']] # subbpath to only process 1 experiment dir or .json, not all at once\n",
    "# specific_experiment_paths = [['straight_road_80m_centercam_pos3.json']]\n",
    "if len(specific_experiment_paths) > 0:\n",
    "    specific_experiments = [os.path.join(*p) for p in  specific_experiment_paths]\n"
   ]
  },
  {
   "cell_type": "code",
   "execution_count": 5,
   "metadata": {},
   "outputs": [],
   "source": [
    "def get_bagfiles_for(experiment_path):\n",
    "    if not experiment_path[-1].endswith('.json'):\n",
    "        print(\"must provide .json file\")\n",
    "    gen_path = 'gen'\n",
    "    if len(experiment_path) > 0:\n",
    "        if len(experiment_path) > 1:\n",
    "            gen_path = os.path.join(gen_path, os.path.join(*experiment_path[:-1]))\n",
    "        exp_name = experiment_path[-1].split('.')[-2]\n",
    "        gen_path = os.path.join(gen_path, exp_name)\n",
    "    if os.path.isdir(gen_path):\n",
    "        # collect all .bag files!\n",
    "        bag_files = []\n",
    "        for path, dirs, files in os.walk(gen_path):\n",
    "            for f in files:\n",
    "                if f.endswith('.bag'):\n",
    "                    bag_file_path = os.path.join(path, f)\n",
    "                    bag_files.append(bag_file_path)\n",
    "        return bag_files\n",
    "    else:\n",
    "        print(\"{0} is not generated!\".format(gen_path))\n"
   ]
  },
  {
   "cell_type": "code",
   "execution_count": 6,
   "metadata": {},
   "outputs": [],
   "source": [
    "def get_summed_trace(bag, max_steps):\n",
    "    total_trace = 0\n",
    "    for i, msg in enumerate(bag):\n",
    "        if i >= max_steps:\n",
    "            break\n",
    "        msg = msg.message\n",
    "        ekf_cov = np.array(msg.ekf_odom.pose.covariance).reshape(6,6)[:3, :3]\n",
    "        total_trace += np.sum(np.diag(ekf_cov))\n",
    "    return total_trace\n",
    "    \n",
    "def get_final_trace(bag, max_steps):\n",
    "    for i, msg in enumerate(bag):\n",
    "        if i == max_steps:\n",
    "            msg = msg.message\n",
    "            ekf_cov = np.array(msg.ekf_odom.pose.covariance).reshape(6,6)[:3, :3]\n",
    "            return np.sum(np.diag(ekf_cov))"
   ]
  },
  {
   "cell_type": "code",
   "execution_count": 20,
   "metadata": {},
   "outputs": [],
   "source": [
    "def calculate_mean_summed_trace(bagfiles, max_steps):\n",
    "    total, n = 0.0, 0\n",
    "    for f in bagfiles:\n",
    "        bag = rosbag.Bag(f)\n",
    "        tr = get_summed_trace(bag, max_steps)\n",
    "        total += tr\n",
    "        n += 1\n",
    "    \n",
    "    return total/n\n",
    "\n",
    "def calculate_mean_final_trace(bagfiles, max_steps):\n",
    "    total, n = 0.0, 0\n",
    "    for f in bagfiles:\n",
    "        bag = rosbag.Bag(f)\n",
    "        tr = get_final_trace(bag, max_steps)\n",
    "        total += tr\n",
    "        n += 1\n",
    "    return total/n"
   ]
  },
  {
   "cell_type": "code",
   "execution_count": 26,
   "metadata": {},
   "outputs": [
    {
     "name": "stdout",
     "output_type": "stream",
     "text": [
      "gen/straight_road_80m_nocam is not generated!\n"
     ]
    },
    {
     "ename": "TypeError",
     "evalue": "'NoneType' object is not iterable",
     "output_type": "error",
     "traceback": [
      "\u001b[0;31m---------------------------------------------------------------------------\u001b[0m",
      "\u001b[0;31mTypeError\u001b[0m                                 Traceback (most recent call last)",
      "\u001b[0;32m<ipython-input-26-30551505fee9>\u001b[0m in \u001b[0;36m<module>\u001b[0;34m()\u001b[0m\n\u001b[1;32m      3\u001b[0m \u001b[0;31m# max_steps = get_min_number_of_steps([files])\u001b[0m\u001b[0;34m\u001b[0m\u001b[0;34m\u001b[0m\u001b[0m\n\u001b[1;32m      4\u001b[0m \u001b[0mmax_steps\u001b[0m \u001b[0;34m=\u001b[0m \u001b[0;36m120\u001b[0m\u001b[0;34m\u001b[0m\u001b[0m\n\u001b[0;32m----> 5\u001b[0;31m \u001b[0;32mprint\u001b[0m\u001b[0;34m(\u001b[0m\u001b[0;34m\"Mean summed trace from covariance matrices: {0}\"\u001b[0m\u001b[0;34m.\u001b[0m\u001b[0mformat\u001b[0m\u001b[0;34m(\u001b[0m\u001b[0mcalculate_mean_summed_trace\u001b[0m\u001b[0;34m(\u001b[0m\u001b[0mfiles\u001b[0m\u001b[0;34m,\u001b[0m \u001b[0mmax_steps\u001b[0m\u001b[0;34m)\u001b[0m\u001b[0;34m)\u001b[0m\u001b[0;34m)\u001b[0m\u001b[0;34m\u001b[0m\u001b[0m\n\u001b[0m\u001b[1;32m      6\u001b[0m \u001b[0;32mprint\u001b[0m\u001b[0;34m(\u001b[0m\u001b[0;34m\"Mean final trace from EKF covariances: {0}\"\u001b[0m\u001b[0;34m.\u001b[0m\u001b[0mformat\u001b[0m\u001b[0;34m(\u001b[0m\u001b[0mcalculate_mean_final_trace\u001b[0m\u001b[0;34m(\u001b[0m\u001b[0mfiles\u001b[0m\u001b[0;34m,\u001b[0m \u001b[0mmax_steps\u001b[0m\u001b[0;34m)\u001b[0m\u001b[0;34m)\u001b[0m\u001b[0;34m)\u001b[0m\u001b[0;34m\u001b[0m\u001b[0m\n\u001b[1;32m      7\u001b[0m \u001b[0;32mprint\u001b[0m\u001b[0;34m(\u001b[0m\u001b[0mmax_steps\u001b[0m\u001b[0;34m)\u001b[0m\u001b[0;34m\u001b[0m\u001b[0m\n",
      "\u001b[0;32m<ipython-input-25-5c4029bfdaf1>\u001b[0m in \u001b[0;36mcalculate_mean_summed_trace\u001b[0;34m(bagfiles, max_steps)\u001b[0m\n\u001b[1;32m      1\u001b[0m \u001b[0;32mdef\u001b[0m \u001b[0mcalculate_mean_summed_trace\u001b[0m\u001b[0;34m(\u001b[0m\u001b[0mbagfiles\u001b[0m\u001b[0;34m,\u001b[0m \u001b[0mmax_steps\u001b[0m\u001b[0;34m)\u001b[0m\u001b[0;34m:\u001b[0m\u001b[0;34m\u001b[0m\u001b[0m\n\u001b[1;32m      2\u001b[0m     \u001b[0mtotal\u001b[0m\u001b[0;34m,\u001b[0m \u001b[0mn\u001b[0m \u001b[0;34m=\u001b[0m \u001b[0;36m0.0\u001b[0m\u001b[0;34m,\u001b[0m \u001b[0;36m0\u001b[0m\u001b[0;34m\u001b[0m\u001b[0m\n\u001b[0;32m----> 3\u001b[0;31m     \u001b[0;32mfor\u001b[0m \u001b[0mf\u001b[0m \u001b[0;32min\u001b[0m \u001b[0mbagfiles\u001b[0m\u001b[0;34m:\u001b[0m\u001b[0;34m\u001b[0m\u001b[0m\n\u001b[0m\u001b[1;32m      4\u001b[0m         \u001b[0mbag\u001b[0m \u001b[0;34m=\u001b[0m \u001b[0mrosbag\u001b[0m\u001b[0;34m.\u001b[0m\u001b[0mBag\u001b[0m\u001b[0;34m(\u001b[0m\u001b[0mf\u001b[0m\u001b[0;34m)\u001b[0m\u001b[0;34m\u001b[0m\u001b[0m\n\u001b[1;32m      5\u001b[0m         \u001b[0mtotal\u001b[0m \u001b[0;34m+=\u001b[0m \u001b[0mget_summed_trace\u001b[0m\u001b[0;34m(\u001b[0m\u001b[0mbag\u001b[0m\u001b[0;34m,\u001b[0m \u001b[0mmax_steps\u001b[0m\u001b[0;34m)\u001b[0m\u001b[0;34m\u001b[0m\u001b[0m\n",
      "\u001b[0;31mTypeError\u001b[0m: 'NoneType' object is not iterable"
     ]
    }
   ],
   "source": [
    "# for one example for now, wrap in function later\n",
    "files = get_bagfiles_for(['straight_road_80m_nocam.json'])\n",
    "# max_steps = get_min_number_of_steps([files])\n",
    "max_steps = 120\n",
    "print(\"Mean summed trace from covariance matrices: {0}\".format(calculate_mean_summed_trace(files, max_steps)))\n",
    "print(\"Mean final trace from EKF covariances: {0}\".format(calculate_mean_final_trace(files, max_steps)))\n",
    "print(max_steps)"
   ]
  },
  {
   "cell_type": "code",
   "execution_count": 21,
   "metadata": {},
   "outputs": [
    {
     "name": "stdout",
     "output_type": "stream",
     "text": [
      "Mean summed trace from covariance matrices: 2.30201221817\n",
      "Mean final trace from EKF covariances: 0.0115630959742\n",
      "120\n"
     ]
    }
   ],
   "source": [
    "# for one example for now, wrap in function later\n",
    "files = get_bagfiles_for(['straight_road_80m_centercam_pos1.json'])\n",
    "# max_steps = get_min_number_of_steps([files])\n",
    "max_steps = 120\n",
    "print(\"Mean summed trace from covariance matrices: {0}\".format(calculate_mean_summed_trace(files, max_steps)))\n",
    "print(\"Mean final trace from EKF covariances: {0}\".format(calculate_mean_final_trace(files, max_steps)))\n",
    "print(max_steps)"
   ]
  },
  {
   "cell_type": "code",
   "execution_count": 28,
   "metadata": {},
   "outputs": [
    {
     "name": "stdout",
     "output_type": "stream",
     "text": [
      "Have 2011 files\n",
      "Mean summed trace from covariance matrices: 2.14705803044\n",
      "Mean final trace from EKF covariances: 0.00815063873172\n",
      "120\n"
     ]
    }
   ],
   "source": [
    "# for one example for now, wrap in function later\n",
    "files = get_bagfiles_for(['straight_road_80m_centercam_pos2.json'])\n",
    "print(\"Have {0} files\".format(len(files)))\n",
    "# max_steps = get_min_number_of_steps([files])\n",
    "print(\"Mean summed trace from covariance matrices: {0}\".format(calculate_mean_summed_trace(files, max_steps)))\n",
    "print(\"Mean final trace from EKF covariances: {0}\".format(calculate_mean_final_trace(files, max_steps)))\n",
    "\n",
    "print(max_steps)"
   ]
  },
  {
   "cell_type": "code",
   "execution_count": 21,
   "metadata": {},
   "outputs": [
    {
     "name": "stdout",
     "output_type": "stream",
     "text": [
      "Mean summed trace from covariance matrices: 2.05362108945\n",
      "Mean final trace from EKF covariances: 0.014393974945\n",
      "130\n"
     ]
    }
   ],
   "source": [
    "# for one example for now, wrap in function later\n",
    "max_steps=130\n",
    "files = get_bagfiles_for(['straight_road_80m_centercam_pos3.json'])\n",
    "print(\"Mean summed trace from covariance matrices: {0}\".format(calculate_mean_summed_trace(files, max_steps)))\n",
    "print(\"Mean final trace from EKF covariances: {0}\".format(calculate_mean_final_trace(files, max_steps)))\n",
    "\n",
    "print(max_steps)"
   ]
  },
  {
   "cell_type": "code",
   "execution_count": null,
   "metadata": {},
   "outputs": [],
   "source": []
  }
 ],
 "metadata": {
  "kernelspec": {
   "display_name": "Python 2",
   "language": "python",
   "name": "python2"
  },
  "language_info": {
   "codemirror_mode": {
    "name": "ipython",
    "version": 2
   },
   "file_extension": ".py",
   "mimetype": "text/x-python",
   "name": "python",
   "nbconvert_exporter": "python",
   "pygments_lexer": "ipython2",
   "version": "2.7.12"
  }
 },
 "nbformat": 4,
 "nbformat_minor": 2
}
